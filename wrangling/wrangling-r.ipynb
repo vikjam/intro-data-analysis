{
 "cells": [
  {
   "cell_type": "markdown",
   "id": "971e775b",
   "metadata": {},
   "source": [
    "# Data Wrangling\n",
    "\n",
    "Data wrangling comprises a substantial portion of every data professional's life. Wrangling data encompasses the steps you undertake to organize and clean your underlying data for your analysis. Wrangling includes merging and appending datasets, finding typos, and creating new variables."
   ]
  },
  {
   "cell_type": "markdown",
   "id": "64c3d0b5",
   "metadata": {},
   "source": [
    "## Tidy data\n",
    "\n",
    "Before we get to the analysis stage of a project, you'll likely first want to arrive at a \"cleaned\" dataset. Some may call this an \"analysis\" file, which implies you can start doing analysis without much more fuss. The exact structure of such an analysis file will vary between projects, but there are some fundamental concepts that are common across many situations. Let's start by taking a look at this example from the book, _R for Data Science_ by Hadley Wickham ([Chapter 12](https://r4ds.had.co.nz/tidy-data.html)). Consider the following tables of data."
   ]
  },
  {
   "cell_type": "code",
   "execution_count": 1,
   "id": "89995a64",
   "metadata": {},
   "outputs": [
    {
     "name": "stderr",
     "output_type": "stream",
     "text": [
      "\n",
      "Attaching package: ‘dplyr’\n",
      "\n",
      "\n",
      "The following objects are masked from ‘package:stats’:\n",
      "\n",
      "    filter, lag\n",
      "\n",
      "\n",
      "The following objects are masked from ‘package:base’:\n",
      "\n",
      "    intersect, setdiff, setequal, union\n",
      "\n",
      "\n"
     ]
    }
   ],
   "source": [
    "# Loading packages\n",
    "library(dplyr) # A popular way to do data manipulations in R\n",
    "\n",
    "# Table (1)\n",
    "infections_tidy <- tribble(\n",
    "    ~country,      ~year,  ~cases, ~population,\n",
    "    \"Afghanistan\",  1999,     745,    19987071, \n",
    "    \"Afghanistan\",  2000,    2666,    20595360, \n",
    "    \"Brazil\",       1999,   37737,   172006362, \n",
    "    \"Brazil\",       2000,   80488,   174504898, \n",
    "    \"China\",        1999,  212258,  1272915272, \n",
    "    \"China\",        2000,  213766,  1280428583\n",
    ")\n",
    "\n",
    "# Table (2)\n",
    "infections_too_long <- tribble(\n",
    "    ~country,      ~year, ~variable,        ~value,\n",
    "    \"Afghanistan\",  1999, \"cases\",             745,\n",
    "    \"Afghanistan\",  1999, \"population\",   19987071,\n",
    "    \"Afghanistan\",  2000, \"cases\",            2666,\n",
    "    \"Afghanistan\",  2000, \"population\",   20595360,\n",
    "    \"Brazil\",       1999, \"cases\",           37737,\n",
    "    \"Brazil\",       1999, \"population\",  172006362,\n",
    "    \"Brazil\",       2000, \"cases\",           80488,\n",
    "    \"Brazil\",       2000, \"population\",  174504898,\n",
    "    \"China\",        1999, \"cases\",          212258,\n",
    "    \"China\",        1999, \"population\", 1272915272,\n",
    "    \"China\",        2000, \"cases\",          213766,\n",
    "    \"China\",        2000, \"population\", 1280428583\n",
    ")\n",
    "\n",
    "# Table (3a)\n",
    "infections_just_cases <- tribble(\n",
    "    ~country,      ~`1999`, ~`2000`,\n",
    "    \"Afghanistan\",     745,    2666,\n",
    "    \"Brazil\",        37737,   80488,\n",
    "    \"China\",        212258,  213766\n",
    ")\n",
    "\n",
    "# Table (3b)\n",
    "infections_just_population <- tribble(\n",
    "    ~country,          ~`1999`,     ~`2000`,\n",
    "    \"Afghanistan\",    19987071,    20595360,\n",
    "    \"Brazil\",        172006362,   174504898,\n",
    "    \"China\",        1272915272,  1280428583\n",
    ")"
   ]
  },
  {
   "cell_type": "markdown",
   "id": "de343329",
   "metadata": {},
   "source": [
    "If you wanted to calculate the infection rate (cases per population) and plot it over time by country, which dataset makes that the easiest? Key factors in making a dataset \"tidy\":\n",
    "\n",
    "- Each variable must have its own column.\n",
    "- Each observation must have its own row.\n",
    "- Each value must have its own cell.\n",
    "\n",
    "The R package called {tidyr} has several functions to help us translate these untidy tables to tidy ones."
   ]
  },
  {
   "cell_type": "code",
   "execution_count": 2,
   "id": "c816029f",
   "metadata": {},
   "outputs": [
    {
     "data": {
      "text/html": [
       "<table class=\"dataframe\">\n",
       "<caption>A tibble: 6 × 4</caption>\n",
       "<thead>\n",
       "\t<tr><th scope=col>country</th><th scope=col>year</th><th scope=col>cases</th><th scope=col>population</th></tr>\n",
       "\t<tr><th scope=col>&lt;chr&gt;</th><th scope=col>&lt;dbl&gt;</th><th scope=col>&lt;dbl&gt;</th><th scope=col>&lt;dbl&gt;</th></tr>\n",
       "</thead>\n",
       "<tbody>\n",
       "\t<tr><td>Afghanistan</td><td>1999</td><td>   745</td><td>  19987071</td></tr>\n",
       "\t<tr><td>Afghanistan</td><td>2000</td><td>  2666</td><td>  20595360</td></tr>\n",
       "\t<tr><td>Brazil     </td><td>1999</td><td> 37737</td><td> 172006362</td></tr>\n",
       "\t<tr><td>Brazil     </td><td>2000</td><td> 80488</td><td> 174504898</td></tr>\n",
       "\t<tr><td>China      </td><td>1999</td><td>212258</td><td>1272915272</td></tr>\n",
       "\t<tr><td>China      </td><td>2000</td><td>213766</td><td>1280428583</td></tr>\n",
       "</tbody>\n",
       "</table>\n"
      ],
      "text/latex": [
       "A tibble: 6 × 4\n",
       "\\begin{tabular}{llll}\n",
       " country & year & cases & population\\\\\n",
       " <chr> & <dbl> & <dbl> & <dbl>\\\\\n",
       "\\hline\n",
       "\t Afghanistan & 1999 &    745 &   19987071\\\\\n",
       "\t Afghanistan & 2000 &   2666 &   20595360\\\\\n",
       "\t Brazil      & 1999 &  37737 &  172006362\\\\\n",
       "\t Brazil      & 2000 &  80488 &  174504898\\\\\n",
       "\t China       & 1999 & 212258 & 1272915272\\\\\n",
       "\t China       & 2000 & 213766 & 1280428583\\\\\n",
       "\\end{tabular}\n"
      ],
      "text/markdown": [
       "\n",
       "A tibble: 6 × 4\n",
       "\n",
       "| country &lt;chr&gt; | year &lt;dbl&gt; | cases &lt;dbl&gt; | population &lt;dbl&gt; |\n",
       "|---|---|---|---|\n",
       "| Afghanistan | 1999 |    745 |   19987071 |\n",
       "| Afghanistan | 2000 |   2666 |   20595360 |\n",
       "| Brazil      | 1999 |  37737 |  172006362 |\n",
       "| Brazil      | 2000 |  80488 |  174504898 |\n",
       "| China       | 1999 | 212258 | 1272915272 |\n",
       "| China       | 2000 | 213766 | 1280428583 |\n",
       "\n"
      ],
      "text/plain": [
       "  country     year cases  population\n",
       "1 Afghanistan 1999    745   19987071\n",
       "2 Afghanistan 2000   2666   20595360\n",
       "3 Brazil      1999  37737  172006362\n",
       "4 Brazil      2000  80488  174504898\n",
       "5 China       1999 212258 1272915272\n",
       "6 China       2000 213766 1280428583"
      ]
     },
     "metadata": {},
     "output_type": "display_data"
    }
   ],
   "source": [
    "library(tidyr) # A set of functions to support tidy data\n",
    "\n",
    "# Table (2)\n",
    "infections_too_long %>%\n",
    "    pivot_wider(names_from = variable, values_from = value)"
   ]
  },
  {
   "cell_type": "code",
   "execution_count": 3,
   "id": "349a91a0",
   "metadata": {},
   "outputs": [
    {
     "data": {
      "text/html": [
       "<table class=\"dataframe\">\n",
       "<caption>A tibble: 6 × 4</caption>\n",
       "<thead>\n",
       "\t<tr><th scope=col>country</th><th scope=col>year</th><th scope=col>cases</th><th scope=col>population</th></tr>\n",
       "\t<tr><th scope=col>&lt;chr&gt;</th><th scope=col>&lt;chr&gt;</th><th scope=col>&lt;dbl&gt;</th><th scope=col>&lt;dbl&gt;</th></tr>\n",
       "</thead>\n",
       "<tbody>\n",
       "\t<tr><td>Afghanistan</td><td>1999</td><td>   745</td><td>  19987071</td></tr>\n",
       "\t<tr><td>Afghanistan</td><td>2000</td><td>  2666</td><td>  20595360</td></tr>\n",
       "\t<tr><td>Brazil     </td><td>1999</td><td> 37737</td><td> 172006362</td></tr>\n",
       "\t<tr><td>Brazil     </td><td>2000</td><td> 80488</td><td> 174504898</td></tr>\n",
       "\t<tr><td>China      </td><td>1999</td><td>212258</td><td>1272915272</td></tr>\n",
       "\t<tr><td>China      </td><td>2000</td><td>213766</td><td>1280428583</td></tr>\n",
       "</tbody>\n",
       "</table>\n"
      ],
      "text/latex": [
       "A tibble: 6 × 4\n",
       "\\begin{tabular}{llll}\n",
       " country & year & cases & population\\\\\n",
       " <chr> & <chr> & <dbl> & <dbl>\\\\\n",
       "\\hline\n",
       "\t Afghanistan & 1999 &    745 &   19987071\\\\\n",
       "\t Afghanistan & 2000 &   2666 &   20595360\\\\\n",
       "\t Brazil      & 1999 &  37737 &  172006362\\\\\n",
       "\t Brazil      & 2000 &  80488 &  174504898\\\\\n",
       "\t China       & 1999 & 212258 & 1272915272\\\\\n",
       "\t China       & 2000 & 213766 & 1280428583\\\\\n",
       "\\end{tabular}\n"
      ],
      "text/markdown": [
       "\n",
       "A tibble: 6 × 4\n",
       "\n",
       "| country &lt;chr&gt; | year &lt;chr&gt; | cases &lt;dbl&gt; | population &lt;dbl&gt; |\n",
       "|---|---|---|---|\n",
       "| Afghanistan | 1999 |    745 |   19987071 |\n",
       "| Afghanistan | 2000 |   2666 |   20595360 |\n",
       "| Brazil      | 1999 |  37737 |  172006362 |\n",
       "| Brazil      | 2000 |  80488 |  174504898 |\n",
       "| China       | 1999 | 212258 | 1272915272 |\n",
       "| China       | 2000 | 213766 | 1280428583 |\n",
       "\n"
      ],
      "text/plain": [
       "  country     year cases  population\n",
       "1 Afghanistan 1999    745   19987071\n",
       "2 Afghanistan 2000   2666   20595360\n",
       "3 Brazil      1999  37737  172006362\n",
       "4 Brazil      2000  80488  174504898\n",
       "5 China       1999 212258 1272915272\n",
       "6 China       2000 213766 1280428583"
      ]
     },
     "metadata": {},
     "output_type": "display_data"
    }
   ],
   "source": [
    "# Tables (3a) + (3b)\n",
    "\n",
    "# Step (1): Reshape to long\n",
    "# Step (2): Rename variables\n",
    "infections_cases_long <- infections_just_cases %>%\n",
    "    pivot_longer(!country, names_to = \"year\") %>%\n",
    "    rename(cases = value)\n",
    "\n",
    "infections_population_long <- infections_just_population %>%\n",
    "    pivot_longer(!country, names_to = \"year\") %>%\n",
    "    rename(population = value)\n",
    "\n",
    "# Step (3): Join the data\n",
    "inner_join(infections_cases_long, infections_population_long, by = c(\"country\", \"year\"))"
   ]
  },
  {
   "cell_type": "markdown",
   "id": "283b8821",
   "metadata": {},
   "source": [
    "## Tidy values\n",
    "\n",
    "The previous section discussed the overall structure of the dataset. Now let's dig into common problems you'll run into with actual values (cells) of your data. We can divide these into two categories:\n",
    "\n",
    "- Strings\n",
    "- Numeric\n",
    "\n",
    "There are of course other types of data types (dates, boolean and factors), but let's just focus on these main types for the moment.\n",
    "\n",
    "### Strings\n",
    "\n",
    "Strings can be very messy! Let's take the simple example of just asking people to write down what campus they attend."
   ]
  },
  {
   "cell_type": "code",
   "execution_count": 4,
   "id": "3798dc31",
   "metadata": {},
   "outputs": [],
   "source": [
    "student_campuses <- tribble(\n",
    "  ~student_id, ~campus,\n",
    "            1, \"BERKELEY\",      # Capitalization\n",
    "            2, \"UCLA \",         # Trailing space\n",
    "            3, \" UCLA\",         # Leading space            \n",
    "            4, \"U.C.L.A.\",      # Punctuation\n",
    "            5, \"Berkely \",      # Typos\n",
    "            6, \"UC  Berkeley\",  # Embedded blanks\n",
    "            7, \"UCB\",           # Abbreviations\n",
    "            8, \"Not applicable\" # Missing\n",
    ")"
   ]
  },
  {
   "cell_type": "markdown",
   "id": "3ca8e2cf",
   "metadata": {},
   "source": [
    "Now if we wanted to count the number of students at each campus, we'll get an incorrect count. Let's go over some common strategies for tidying up these strings.\n",
    "\n",
    "- Standardizing the case of the variables (i.e., making everything uppercase or lowercase)\n",
    "- Removing trailing spaces, leading spaces and reduced multiple spaces into a single space\n",
    "- Cleaning up punctuation\n",
    "- Recoding values"
   ]
  },
  {
   "cell_type": "code",
   "execution_count": 5,
   "id": "522a821f",
   "metadata": {},
   "outputs": [
    {
     "data": {
      "text/html": [
       "<table class=\"dataframe\">\n",
       "<caption>A tibble: 8 × 3</caption>\n",
       "<thead>\n",
       "\t<tr><th scope=col>student_id</th><th scope=col>campus</th><th scope=col>consistent_campus</th></tr>\n",
       "\t<tr><th scope=col>&lt;dbl&gt;</th><th scope=col>&lt;chr&gt;</th><th scope=col>&lt;chr&gt;</th></tr>\n",
       "</thead>\n",
       "<tbody>\n",
       "\t<tr><td>1</td><td>BERKELEY      </td><td>BERKELEY      </td></tr>\n",
       "\t<tr><td>2</td><td>UCLA          </td><td>UCLA          </td></tr>\n",
       "\t<tr><td>3</td><td> UCLA         </td><td> UCLA         </td></tr>\n",
       "\t<tr><td>4</td><td>U.C.L.A.      </td><td>U.C.L.A.      </td></tr>\n",
       "\t<tr><td>5</td><td>Berkely       </td><td>BERKELY       </td></tr>\n",
       "\t<tr><td>6</td><td>UC  Berkeley  </td><td>UC  BERKELEY  </td></tr>\n",
       "\t<tr><td>7</td><td>UCB           </td><td>UCB           </td></tr>\n",
       "\t<tr><td>8</td><td>Not applicable</td><td>NOT APPLICABLE</td></tr>\n",
       "</tbody>\n",
       "</table>\n"
      ],
      "text/latex": [
       "A tibble: 8 × 3\n",
       "\\begin{tabular}{lll}\n",
       " student\\_id & campus & consistent\\_campus\\\\\n",
       " <dbl> & <chr> & <chr>\\\\\n",
       "\\hline\n",
       "\t 1 & BERKELEY       & BERKELEY      \\\\\n",
       "\t 2 & UCLA           & UCLA          \\\\\n",
       "\t 3 &  UCLA          &  UCLA         \\\\\n",
       "\t 4 & U.C.L.A.       & U.C.L.A.      \\\\\n",
       "\t 5 & Berkely        & BERKELY       \\\\\n",
       "\t 6 & UC  Berkeley   & UC  BERKELEY  \\\\\n",
       "\t 7 & UCB            & UCB           \\\\\n",
       "\t 8 & Not applicable & NOT APPLICABLE\\\\\n",
       "\\end{tabular}\n"
      ],
      "text/markdown": [
       "\n",
       "A tibble: 8 × 3\n",
       "\n",
       "| student_id &lt;dbl&gt; | campus &lt;chr&gt; | consistent_campus &lt;chr&gt; |\n",
       "|---|---|---|\n",
       "| 1 | BERKELEY       | BERKELEY       |\n",
       "| 2 | UCLA           | UCLA           |\n",
       "| 3 |  UCLA          |  UCLA          |\n",
       "| 4 | U.C.L.A.       | U.C.L.A.       |\n",
       "| 5 | Berkely        | BERKELY        |\n",
       "| 6 | UC  Berkeley   | UC  BERKELEY   |\n",
       "| 7 | UCB            | UCB            |\n",
       "| 8 | Not applicable | NOT APPLICABLE |\n",
       "\n"
      ],
      "text/plain": [
       "  student_id campus         consistent_campus\n",
       "1 1          BERKELEY       BERKELEY         \n",
       "2 2          UCLA           UCLA             \n",
       "3 3           UCLA           UCLA            \n",
       "4 4          U.C.L.A.       U.C.L.A.         \n",
       "5 5          Berkely        BERKELY          \n",
       "6 6          UC  Berkeley   UC  BERKELEY     \n",
       "7 7          UCB            UCB              \n",
       "8 8          Not applicable NOT APPLICABLE   "
      ]
     },
     "metadata": {},
     "output_type": "display_data"
    }
   ],
   "source": [
    "library(stringr)\n",
    "\n",
    "# Let's make all campuses uppercase\n",
    "student_campuses %>%\n",
    "  mutate(consistent_campus = str_to_upper(campus))"
   ]
  },
  {
   "cell_type": "code",
   "execution_count": 6,
   "id": "e9f272e7",
   "metadata": {},
   "outputs": [
    {
     "data": {
      "text/html": [
       "<table class=\"dataframe\">\n",
       "<caption>A tibble: 8 × 3</caption>\n",
       "<thead>\n",
       "\t<tr><th scope=col>student_id</th><th scope=col>campus</th><th scope=col>consistent_campus</th></tr>\n",
       "\t<tr><th scope=col>&lt;dbl&gt;</th><th scope=col>&lt;chr&gt;</th><th scope=col>&lt;chr&gt;</th></tr>\n",
       "</thead>\n",
       "<tbody>\n",
       "\t<tr><td>1</td><td>BERKELEY      </td><td>BERKELEY      </td></tr>\n",
       "\t<tr><td>2</td><td>UCLA          </td><td>UCLA          </td></tr>\n",
       "\t<tr><td>3</td><td> UCLA         </td><td>UCLA          </td></tr>\n",
       "\t<tr><td>4</td><td>U.C.L.A.      </td><td>U.C.L.A.      </td></tr>\n",
       "\t<tr><td>5</td><td>Berkely       </td><td>Berkely       </td></tr>\n",
       "\t<tr><td>6</td><td>UC  Berkeley  </td><td>UC Berkeley   </td></tr>\n",
       "\t<tr><td>7</td><td>UCB           </td><td>UCB           </td></tr>\n",
       "\t<tr><td>8</td><td>Not applicable</td><td>Not applicable</td></tr>\n",
       "</tbody>\n",
       "</table>\n"
      ],
      "text/latex": [
       "A tibble: 8 × 3\n",
       "\\begin{tabular}{lll}\n",
       " student\\_id & campus & consistent\\_campus\\\\\n",
       " <dbl> & <chr> & <chr>\\\\\n",
       "\\hline\n",
       "\t 1 & BERKELEY       & BERKELEY      \\\\\n",
       "\t 2 & UCLA           & UCLA          \\\\\n",
       "\t 3 &  UCLA          & UCLA          \\\\\n",
       "\t 4 & U.C.L.A.       & U.C.L.A.      \\\\\n",
       "\t 5 & Berkely        & Berkely       \\\\\n",
       "\t 6 & UC  Berkeley   & UC Berkeley   \\\\\n",
       "\t 7 & UCB            & UCB           \\\\\n",
       "\t 8 & Not applicable & Not applicable\\\\\n",
       "\\end{tabular}\n"
      ],
      "text/markdown": [
       "\n",
       "A tibble: 8 × 3\n",
       "\n",
       "| student_id &lt;dbl&gt; | campus &lt;chr&gt; | consistent_campus &lt;chr&gt; |\n",
       "|---|---|---|\n",
       "| 1 | BERKELEY       | BERKELEY       |\n",
       "| 2 | UCLA           | UCLA           |\n",
       "| 3 |  UCLA          | UCLA           |\n",
       "| 4 | U.C.L.A.       | U.C.L.A.       |\n",
       "| 5 | Berkely        | Berkely        |\n",
       "| 6 | UC  Berkeley   | UC Berkeley    |\n",
       "| 7 | UCB            | UCB            |\n",
       "| 8 | Not applicable | Not applicable |\n",
       "\n"
      ],
      "text/plain": [
       "  student_id campus         consistent_campus\n",
       "1 1          BERKELEY       BERKELEY         \n",
       "2 2          UCLA           UCLA             \n",
       "3 3           UCLA          UCLA             \n",
       "4 4          U.C.L.A.       U.C.L.A.         \n",
       "5 5          Berkely        Berkely          \n",
       "6 6          UC  Berkeley   UC Berkeley      \n",
       "7 7          UCB            UCB              \n",
       "8 8          Not applicable Not applicable   "
      ]
     },
     "metadata": {},
     "output_type": "display_data"
    }
   ],
   "source": [
    "# Let's get ride of the spaces\n",
    "student_campuses %>%\n",
    "  mutate(consistent_campus = str_squish(campus))"
   ]
  },
  {
   "cell_type": "code",
   "execution_count": 7,
   "id": "cbf8d996",
   "metadata": {},
   "outputs": [
    {
     "data": {
      "text/html": [
       "<table class=\"dataframe\">\n",
       "<caption>A tibble: 8 × 3</caption>\n",
       "<thead>\n",
       "\t<tr><th scope=col>student_id</th><th scope=col>campus</th><th scope=col>consistent_campus</th></tr>\n",
       "\t<tr><th scope=col>&lt;dbl&gt;</th><th scope=col>&lt;chr&gt;</th><th scope=col>&lt;chr&gt;</th></tr>\n",
       "</thead>\n",
       "<tbody>\n",
       "\t<tr><td>1</td><td>BERKELEY      </td><td>BERKELEY      </td></tr>\n",
       "\t<tr><td>2</td><td>UCLA          </td><td>UCLA          </td></tr>\n",
       "\t<tr><td>3</td><td> UCLA         </td><td> UCLA         </td></tr>\n",
       "\t<tr><td>4</td><td>U.C.L.A.      </td><td>UCLA          </td></tr>\n",
       "\t<tr><td>5</td><td>Berkely       </td><td>Berkely       </td></tr>\n",
       "\t<tr><td>6</td><td>UC  Berkeley  </td><td>UC  Berkeley  </td></tr>\n",
       "\t<tr><td>7</td><td>UCB           </td><td>UCB           </td></tr>\n",
       "\t<tr><td>8</td><td>Not applicable</td><td>Not applicable</td></tr>\n",
       "</tbody>\n",
       "</table>\n"
      ],
      "text/latex": [
       "A tibble: 8 × 3\n",
       "\\begin{tabular}{lll}\n",
       " student\\_id & campus & consistent\\_campus\\\\\n",
       " <dbl> & <chr> & <chr>\\\\\n",
       "\\hline\n",
       "\t 1 & BERKELEY       & BERKELEY      \\\\\n",
       "\t 2 & UCLA           & UCLA          \\\\\n",
       "\t 3 &  UCLA          &  UCLA         \\\\\n",
       "\t 4 & U.C.L.A.       & UCLA          \\\\\n",
       "\t 5 & Berkely        & Berkely       \\\\\n",
       "\t 6 & UC  Berkeley   & UC  Berkeley  \\\\\n",
       "\t 7 & UCB            & UCB           \\\\\n",
       "\t 8 & Not applicable & Not applicable\\\\\n",
       "\\end{tabular}\n"
      ],
      "text/markdown": [
       "\n",
       "A tibble: 8 × 3\n",
       "\n",
       "| student_id &lt;dbl&gt; | campus &lt;chr&gt; | consistent_campus &lt;chr&gt; |\n",
       "|---|---|---|\n",
       "| 1 | BERKELEY       | BERKELEY       |\n",
       "| 2 | UCLA           | UCLA           |\n",
       "| 3 |  UCLA          |  UCLA          |\n",
       "| 4 | U.C.L.A.       | UCLA           |\n",
       "| 5 | Berkely        | Berkely        |\n",
       "| 6 | UC  Berkeley   | UC  Berkeley   |\n",
       "| 7 | UCB            | UCB            |\n",
       "| 8 | Not applicable | Not applicable |\n",
       "\n"
      ],
      "text/plain": [
       "  student_id campus         consistent_campus\n",
       "1 1          BERKELEY       BERKELEY         \n",
       "2 2          UCLA           UCLA             \n",
       "3 3           UCLA           UCLA            \n",
       "4 4          U.C.L.A.       UCLA             \n",
       "5 5          Berkely        Berkely          \n",
       "6 6          UC  Berkeley   UC  Berkeley     \n",
       "7 7          UCB            UCB              \n",
       "8 8          Not applicable Not applicable   "
      ]
     },
     "metadata": {},
     "output_type": "display_data"
    }
   ],
   "source": [
    "# Let's get rid of the punctuation\n",
    "student_campuses %>%\n",
    "  mutate(consistent_campus = str_replace_all(campus, \"[:punct:]\", \"\"))"
   ]
  },
  {
   "cell_type": "code",
   "execution_count": 8,
   "id": "93d6198d",
   "metadata": {},
   "outputs": [
    {
     "data": {
      "text/html": [
       "<table class=\"dataframe\">\n",
       "<caption>A tibble: 8 × 3</caption>\n",
       "<thead>\n",
       "\t<tr><th scope=col>student_id</th><th scope=col>campus</th><th scope=col>consistent_campus</th></tr>\n",
       "\t<tr><th scope=col>&lt;dbl&gt;</th><th scope=col>&lt;chr&gt;</th><th scope=col>&lt;chr&gt;</th></tr>\n",
       "</thead>\n",
       "<tbody>\n",
       "\t<tr><td>1</td><td>BERKELEY      </td><td>BERKELEY      </td></tr>\n",
       "\t<tr><td>2</td><td>UCLA          </td><td>UCLA          </td></tr>\n",
       "\t<tr><td>3</td><td> UCLA         </td><td> UCLA         </td></tr>\n",
       "\t<tr><td>4</td><td>U.C.L.A.      </td><td>U.C.L.A.      </td></tr>\n",
       "\t<tr><td>5</td><td>Berkely       </td><td>Berkeley      </td></tr>\n",
       "\t<tr><td>6</td><td>UC  Berkeley  </td><td>UC  Berkeley  </td></tr>\n",
       "\t<tr><td>7</td><td>UCB           </td><td>UCB           </td></tr>\n",
       "\t<tr><td>8</td><td>Not applicable</td><td>Not applicable</td></tr>\n",
       "</tbody>\n",
       "</table>\n"
      ],
      "text/latex": [
       "A tibble: 8 × 3\n",
       "\\begin{tabular}{lll}\n",
       " student\\_id & campus & consistent\\_campus\\\\\n",
       " <dbl> & <chr> & <chr>\\\\\n",
       "\\hline\n",
       "\t 1 & BERKELEY       & BERKELEY      \\\\\n",
       "\t 2 & UCLA           & UCLA          \\\\\n",
       "\t 3 &  UCLA          &  UCLA         \\\\\n",
       "\t 4 & U.C.L.A.       & U.C.L.A.      \\\\\n",
       "\t 5 & Berkely        & Berkeley      \\\\\n",
       "\t 6 & UC  Berkeley   & UC  Berkeley  \\\\\n",
       "\t 7 & UCB            & UCB           \\\\\n",
       "\t 8 & Not applicable & Not applicable\\\\\n",
       "\\end{tabular}\n"
      ],
      "text/markdown": [
       "\n",
       "A tibble: 8 × 3\n",
       "\n",
       "| student_id &lt;dbl&gt; | campus &lt;chr&gt; | consistent_campus &lt;chr&gt; |\n",
       "|---|---|---|\n",
       "| 1 | BERKELEY       | BERKELEY       |\n",
       "| 2 | UCLA           | UCLA           |\n",
       "| 3 |  UCLA          |  UCLA          |\n",
       "| 4 | U.C.L.A.       | U.C.L.A.       |\n",
       "| 5 | Berkely        | Berkeley       |\n",
       "| 6 | UC  Berkeley   | UC  Berkeley   |\n",
       "| 7 | UCB            | UCB            |\n",
       "| 8 | Not applicable | Not applicable |\n",
       "\n"
      ],
      "text/plain": [
       "  student_id campus         consistent_campus\n",
       "1 1          BERKELEY       BERKELEY         \n",
       "2 2          UCLA           UCLA             \n",
       "3 3           UCLA           UCLA            \n",
       "4 4          U.C.L.A.       U.C.L.A.         \n",
       "5 5          Berkely        Berkeley         \n",
       "6 6          UC  Berkeley   UC  Berkeley     \n",
       "7 7          UCB            UCB              \n",
       "8 8          Not applicable Not applicable   "
      ]
     },
     "metadata": {},
     "output_type": "display_data"
    }
   ],
   "source": [
    "# Let's fix typos\n",
    "student_campuses %>%\n",
    "  mutate(consistent_campus = str_replace_all(campus, \"Berkely\", \"Berkeley\"))"
   ]
  },
  {
   "cell_type": "code",
   "execution_count": 9,
   "id": "66fe7023",
   "metadata": {},
   "outputs": [
    {
     "data": {
      "text/html": [
       "<table class=\"dataframe\">\n",
       "<caption>A tibble: 8 × 3</caption>\n",
       "<thead>\n",
       "\t<tr><th scope=col>student_id</th><th scope=col>campus</th><th scope=col>consistent_campus</th></tr>\n",
       "\t<tr><th scope=col>&lt;dbl&gt;</th><th scope=col>&lt;chr&gt;</th><th scope=col>&lt;chr&gt;</th></tr>\n",
       "</thead>\n",
       "<tbody>\n",
       "\t<tr><td>1</td><td>BERKELEY      </td><td>BERKELEY      </td></tr>\n",
       "\t<tr><td>2</td><td>UCLA          </td><td>UCLA          </td></tr>\n",
       "\t<tr><td>3</td><td> UCLA         </td><td> UCLA         </td></tr>\n",
       "\t<tr><td>4</td><td>U.C.L.A.      </td><td>U.C.L.A.      </td></tr>\n",
       "\t<tr><td>5</td><td>Berkely       </td><td>Berkely       </td></tr>\n",
       "\t<tr><td>6</td><td>UC  Berkeley  </td><td>UCB           </td></tr>\n",
       "\t<tr><td>7</td><td>UCB           </td><td>UCB           </td></tr>\n",
       "\t<tr><td>8</td><td>Not applicable</td><td>Not applicable</td></tr>\n",
       "</tbody>\n",
       "</table>\n"
      ],
      "text/latex": [
       "A tibble: 8 × 3\n",
       "\\begin{tabular}{lll}\n",
       " student\\_id & campus & consistent\\_campus\\\\\n",
       " <dbl> & <chr> & <chr>\\\\\n",
       "\\hline\n",
       "\t 1 & BERKELEY       & BERKELEY      \\\\\n",
       "\t 2 & UCLA           & UCLA          \\\\\n",
       "\t 3 &  UCLA          &  UCLA         \\\\\n",
       "\t 4 & U.C.L.A.       & U.C.L.A.      \\\\\n",
       "\t 5 & Berkely        & Berkely       \\\\\n",
       "\t 6 & UC  Berkeley   & UCB           \\\\\n",
       "\t 7 & UCB            & UCB           \\\\\n",
       "\t 8 & Not applicable & Not applicable\\\\\n",
       "\\end{tabular}\n"
      ],
      "text/markdown": [
       "\n",
       "A tibble: 8 × 3\n",
       "\n",
       "| student_id &lt;dbl&gt; | campus &lt;chr&gt; | consistent_campus &lt;chr&gt; |\n",
       "|---|---|---|\n",
       "| 1 | BERKELEY       | BERKELEY       |\n",
       "| 2 | UCLA           | UCLA           |\n",
       "| 3 |  UCLA          |  UCLA          |\n",
       "| 4 | U.C.L.A.       | U.C.L.A.       |\n",
       "| 5 | Berkely        | Berkely        |\n",
       "| 6 | UC  Berkeley   | UCB            |\n",
       "| 7 | UCB            | UCB            |\n",
       "| 8 | Not applicable | Not applicable |\n",
       "\n"
      ],
      "text/plain": [
       "  student_id campus         consistent_campus\n",
       "1 1          BERKELEY       BERKELEY         \n",
       "2 2          UCLA           UCLA             \n",
       "3 3           UCLA           UCLA            \n",
       "4 4          U.C.L.A.       U.C.L.A.         \n",
       "5 5          Berkely        Berkely          \n",
       "6 6          UC  Berkeley   UCB              \n",
       "7 7          UCB            UCB              \n",
       "8 8          Not applicable Not applicable   "
      ]
     },
     "metadata": {},
     "output_type": "display_data"
    }
   ],
   "source": [
    "# Let's standardize values\n",
    "student_campuses %>%\n",
    "  mutate(consistent_campus = if_else(str_detect(campus, \"[UC]*Berkeley\"), \"UCB\", campus))"
   ]
  },
  {
   "cell_type": "code",
   "execution_count": 10,
   "id": "6e520268",
   "metadata": {},
   "outputs": [
    {
     "data": {
      "text/html": [
       "<table class=\"dataframe\">\n",
       "<caption>A tibble: 8 × 3</caption>\n",
       "<thead>\n",
       "\t<tr><th scope=col>student_id</th><th scope=col>campus</th><th scope=col>consistent_campus</th></tr>\n",
       "\t<tr><th scope=col>&lt;dbl&gt;</th><th scope=col>&lt;chr&gt;</th><th scope=col>&lt;chr&gt;</th></tr>\n",
       "</thead>\n",
       "<tbody>\n",
       "\t<tr><td>1</td><td>BERKELEY      </td><td>BERKELEY    </td></tr>\n",
       "\t<tr><td>2</td><td>UCLA          </td><td>UCLA        </td></tr>\n",
       "\t<tr><td>3</td><td> UCLA         </td><td> UCLA       </td></tr>\n",
       "\t<tr><td>4</td><td>U.C.L.A.      </td><td>U.C.L.A.    </td></tr>\n",
       "\t<tr><td>5</td><td>Berkely       </td><td>Berkely     </td></tr>\n",
       "\t<tr><td>6</td><td>UC  Berkeley  </td><td>UC  Berkeley</td></tr>\n",
       "\t<tr><td>7</td><td>UCB           </td><td>UCB         </td></tr>\n",
       "\t<tr><td>8</td><td>Not applicable</td><td>NA          </td></tr>\n",
       "</tbody>\n",
       "</table>\n"
      ],
      "text/latex": [
       "A tibble: 8 × 3\n",
       "\\begin{tabular}{lll}\n",
       " student\\_id & campus & consistent\\_campus\\\\\n",
       " <dbl> & <chr> & <chr>\\\\\n",
       "\\hline\n",
       "\t 1 & BERKELEY       & BERKELEY    \\\\\n",
       "\t 2 & UCLA           & UCLA        \\\\\n",
       "\t 3 &  UCLA          &  UCLA       \\\\\n",
       "\t 4 & U.C.L.A.       & U.C.L.A.    \\\\\n",
       "\t 5 & Berkely        & Berkely     \\\\\n",
       "\t 6 & UC  Berkeley   & UC  Berkeley\\\\\n",
       "\t 7 & UCB            & UCB         \\\\\n",
       "\t 8 & Not applicable & NA          \\\\\n",
       "\\end{tabular}\n"
      ],
      "text/markdown": [
       "\n",
       "A tibble: 8 × 3\n",
       "\n",
       "| student_id &lt;dbl&gt; | campus &lt;chr&gt; | consistent_campus &lt;chr&gt; |\n",
       "|---|---|---|\n",
       "| 1 | BERKELEY       | BERKELEY     |\n",
       "| 2 | UCLA           | UCLA         |\n",
       "| 3 |  UCLA          |  UCLA        |\n",
       "| 4 | U.C.L.A.       | U.C.L.A.     |\n",
       "| 5 | Berkely        | Berkely      |\n",
       "| 6 | UC  Berkeley   | UC  Berkeley |\n",
       "| 7 | UCB            | UCB          |\n",
       "| 8 | Not applicable | NA           |\n",
       "\n"
      ],
      "text/plain": [
       "  student_id campus         consistent_campus\n",
       "1 1          BERKELEY       BERKELEY         \n",
       "2 2          UCLA           UCLA             \n",
       "3 3           UCLA           UCLA            \n",
       "4 4          U.C.L.A.       U.C.L.A.         \n",
       "5 5          Berkely        Berkely          \n",
       "6 6          UC  Berkeley   UC  Berkeley     \n",
       "7 7          UCB            UCB              \n",
       "8 8          Not applicable NA               "
      ]
     },
     "metadata": {},
     "output_type": "display_data"
    }
   ],
   "source": [
    "# Cleaning up missing values\n",
    "student_campuses %>%\n",
    "    mutate(consistent_campus = na_if(campus, \"Not applicable\"))"
   ]
  },
  {
   "cell_type": "code",
   "execution_count": 11,
   "id": "2614d726",
   "metadata": {},
   "outputs": [
    {
     "data": {
      "text/html": [
       "<table class=\"dataframe\">\n",
       "<caption>A tibble: 8 × 3</caption>\n",
       "<thead>\n",
       "\t<tr><th scope=col>student_id</th><th scope=col>campus</th><th scope=col>consistent_campus</th></tr>\n",
       "\t<tr><th scope=col>&lt;dbl&gt;</th><th scope=col>&lt;chr&gt;</th><th scope=col>&lt;chr&gt;</th></tr>\n",
       "</thead>\n",
       "<tbody>\n",
       "\t<tr><td>1</td><td>BERKELEY      </td><td>UCB </td></tr>\n",
       "\t<tr><td>2</td><td>UCLA          </td><td>UCLA</td></tr>\n",
       "\t<tr><td>3</td><td> UCLA         </td><td>UCLA</td></tr>\n",
       "\t<tr><td>4</td><td>U.C.L.A.      </td><td>UCLA</td></tr>\n",
       "\t<tr><td>5</td><td>Berkely       </td><td>UCB </td></tr>\n",
       "\t<tr><td>6</td><td>UC  Berkeley  </td><td>UCB </td></tr>\n",
       "\t<tr><td>7</td><td>UCB           </td><td>UCB </td></tr>\n",
       "\t<tr><td>8</td><td>Not applicable</td><td>NA  </td></tr>\n",
       "</tbody>\n",
       "</table>\n"
      ],
      "text/latex": [
       "A tibble: 8 × 3\n",
       "\\begin{tabular}{lll}\n",
       " student\\_id & campus & consistent\\_campus\\\\\n",
       " <dbl> & <chr> & <chr>\\\\\n",
       "\\hline\n",
       "\t 1 & BERKELEY       & UCB \\\\\n",
       "\t 2 & UCLA           & UCLA\\\\\n",
       "\t 3 &  UCLA          & UCLA\\\\\n",
       "\t 4 & U.C.L.A.       & UCLA\\\\\n",
       "\t 5 & Berkely        & UCB \\\\\n",
       "\t 6 & UC  Berkeley   & UCB \\\\\n",
       "\t 7 & UCB            & UCB \\\\\n",
       "\t 8 & Not applicable & NA  \\\\\n",
       "\\end{tabular}\n"
      ],
      "text/markdown": [
       "\n",
       "A tibble: 8 × 3\n",
       "\n",
       "| student_id &lt;dbl&gt; | campus &lt;chr&gt; | consistent_campus &lt;chr&gt; |\n",
       "|---|---|---|\n",
       "| 1 | BERKELEY       | UCB  |\n",
       "| 2 | UCLA           | UCLA |\n",
       "| 3 |  UCLA          | UCLA |\n",
       "| 4 | U.C.L.A.       | UCLA |\n",
       "| 5 | Berkely        | UCB  |\n",
       "| 6 | UC  Berkeley   | UCB  |\n",
       "| 7 | UCB            | UCB  |\n",
       "| 8 | Not applicable | NA   |\n",
       "\n"
      ],
      "text/plain": [
       "  student_id campus         consistent_campus\n",
       "1 1          BERKELEY       UCB              \n",
       "2 2          UCLA           UCLA             \n",
       "3 3           UCLA          UCLA             \n",
       "4 4          U.C.L.A.       UCLA             \n",
       "5 5          Berkely        UCB              \n",
       "6 6          UC  Berkeley   UCB              \n",
       "7 7          UCB            UCB              \n",
       "8 8          Not applicable NA               "
      ]
     },
     "metadata": {},
     "output_type": "display_data"
    }
   ],
   "source": [
    "# Now let's put it all together!\n",
    "student_campuses %>%\n",
    "  mutate(\n",
    "      consistent_campus = campus %>%\n",
    "          str_to_upper(.) %>%                     # Consistent case\n",
    "          str_squish(.)   %>%                     # Remove spaces (trailing, leading, consecutive)\n",
    "          str_replace_all(., \"[:punct:]\", \"\") %>% # Punctuation\n",
    "          str_replace_all(                        # Fix typos\n",
    "              .,\n",
    "              \"BERKELY\",\n",
    "              \"BERKELEY\"\n",
    "          ) %>%\n",
    "          if_else(                                # Standardize values\n",
    "              str_detect(., \"[UC]*BERKELEY\"),\n",
    "              \"UCB\",\n",
    "              .\n",
    "          ) %>%\n",
    "          na_if(., \"NOT APPLICABLE\")              # Clean up missing values\n",
    "  )"
   ]
  },
  {
   "cell_type": "markdown",
   "id": "cbd594ec",
   "metadata": {},
   "source": [
    "### String or number?\n",
    "\n",
    "Sometimes you have number stuck in a string (e.g., `\"$1,000\"`) and sometimes you have a string posing as a number (e.g., ZIP Codes). Let's go through an example of each and how to solve these issues."
   ]
  },
  {
   "cell_type": "code",
   "execution_count": 12,
   "id": "9319bce2",
   "metadata": {},
   "outputs": [],
   "source": [
    "zcta_earnings <- tribble(\n",
    "    ~zcta, ~median_earnings,\n",
    "     1240, \"$33,530\",\n",
    "     1242, \"*\",\n",
    "    89010, \"$26,172\",\n",
    "    89019, \"$36,354\"\n",
    ")"
   ]
  },
  {
   "cell_type": "markdown",
   "id": "61a5cfb3",
   "metadata": {},
   "source": [
    "Some identification codes consisting of numbers (e.g., ZIP Codes and FIPS codes) may mistakenly stored or loaded as numbers. Why does this matter? In general, we wouldn't want to treat a ZIP Code as a number. Why is 89010 greater than 1240? Ideally, such variables should be stored as strings instead of numbers."
   ]
  },
  {
   "cell_type": "code",
   "execution_count": 13,
   "id": "6d6e5ca1",
   "metadata": {},
   "outputs": [
    {
     "data": {
      "text/html": [
       "<table class=\"dataframe\">\n",
       "<caption>A tibble: 4 × 3</caption>\n",
       "<thead>\n",
       "\t<tr><th scope=col>zcta</th><th scope=col>zcta_str</th><th scope=col>median_earnings</th></tr>\n",
       "\t<tr><th scope=col>&lt;dbl&gt;</th><th scope=col>&lt;chr&gt;</th><th scope=col>&lt;chr&gt;</th></tr>\n",
       "</thead>\n",
       "<tbody>\n",
       "\t<tr><td> 1240</td><td>01240</td><td>$33,530</td></tr>\n",
       "\t<tr><td> 1242</td><td>01242</td><td>*      </td></tr>\n",
       "\t<tr><td>89010</td><td>89010</td><td>$26,172</td></tr>\n",
       "\t<tr><td>89019</td><td>89019</td><td>$36,354</td></tr>\n",
       "</tbody>\n",
       "</table>\n"
      ],
      "text/latex": [
       "A tibble: 4 × 3\n",
       "\\begin{tabular}{lll}\n",
       " zcta & zcta\\_str & median\\_earnings\\\\\n",
       " <dbl> & <chr> & <chr>\\\\\n",
       "\\hline\n",
       "\t  1240 & 01240 & \\$33,530\\\\\n",
       "\t  1242 & 01242 & *      \\\\\n",
       "\t 89010 & 89010 & \\$26,172\\\\\n",
       "\t 89019 & 89019 & \\$36,354\\\\\n",
       "\\end{tabular}\n"
      ],
      "text/markdown": [
       "\n",
       "A tibble: 4 × 3\n",
       "\n",
       "| zcta &lt;dbl&gt; | zcta_str &lt;chr&gt; | median_earnings &lt;chr&gt; |\n",
       "|---|---|---|\n",
       "|  1240 | 01240 | $33,530 |\n",
       "|  1242 | 01242 | *       |\n",
       "| 89010 | 89010 | $26,172 |\n",
       "| 89019 | 89019 | $36,354 |\n",
       "\n"
      ],
      "text/plain": [
       "  zcta  zcta_str median_earnings\n",
       "1  1240 01240    $33,530        \n",
       "2  1242 01242    *              \n",
       "3 89010 89010    $26,172        \n",
       "4 89019 89019    $36,354        "
      ]
     },
     "metadata": {},
     "output_type": "display_data"
    }
   ],
   "source": [
    "zcta_earnings %>%\n",
    "    mutate(zcta_str = str_pad(zcta, width = 5, pad = \"0\"), .after = zcta)"
   ]
  },
  {
   "cell_type": "code",
   "execution_count": 14,
   "id": "1ac27092",
   "metadata": {},
   "outputs": [
    {
     "data": {
      "text/html": [
       "<table class=\"dataframe\">\n",
       "<caption>A tibble: 4 × 3</caption>\n",
       "<thead>\n",
       "\t<tr><th scope=col>zcta</th><th scope=col>median_earnings</th><th scope=col>median_earnings_num</th></tr>\n",
       "\t<tr><th scope=col>&lt;dbl&gt;</th><th scope=col>&lt;chr&gt;</th><th scope=col>&lt;dbl&gt;</th></tr>\n",
       "</thead>\n",
       "<tbody>\n",
       "\t<tr><td> 1240</td><td>$33,530</td><td>33530</td></tr>\n",
       "\t<tr><td> 1242</td><td>*      </td><td>   NA</td></tr>\n",
       "\t<tr><td>89010</td><td>$26,172</td><td>26172</td></tr>\n",
       "\t<tr><td>89019</td><td>$36,354</td><td>36354</td></tr>\n",
       "</tbody>\n",
       "</table>\n"
      ],
      "text/latex": [
       "A tibble: 4 × 3\n",
       "\\begin{tabular}{lll}\n",
       " zcta & median\\_earnings & median\\_earnings\\_num\\\\\n",
       " <dbl> & <chr> & <dbl>\\\\\n",
       "\\hline\n",
       "\t  1240 & \\$33,530 & 33530\\\\\n",
       "\t  1242 & *       &    NA\\\\\n",
       "\t 89010 & \\$26,172 & 26172\\\\\n",
       "\t 89019 & \\$36,354 & 36354\\\\\n",
       "\\end{tabular}\n"
      ],
      "text/markdown": [
       "\n",
       "A tibble: 4 × 3\n",
       "\n",
       "| zcta &lt;dbl&gt; | median_earnings &lt;chr&gt; | median_earnings_num &lt;dbl&gt; |\n",
       "|---|---|---|\n",
       "|  1240 | $33,530 | 33530 |\n",
       "|  1242 | *       |    NA |\n",
       "| 89010 | $26,172 | 26172 |\n",
       "| 89019 | $36,354 | 36354 |\n",
       "\n"
      ],
      "text/plain": [
       "  zcta  median_earnings median_earnings_num\n",
       "1  1240 $33,530         33530              \n",
       "2  1242 *                  NA              \n",
       "3 89010 $26,172         26172              \n",
       "4 89019 $36,354         36354              "
      ]
     },
     "metadata": {},
     "output_type": "display_data"
    }
   ],
   "source": [
    "library(readr) # Used for reading data files, but has a helpful parse_number function\n",
    "\n",
    "zcta_earnings %>%\n",
    "    mutate(median_earnings_num = parse_number(median_earnings, na = c(\"*\", \"\")))"
   ]
  },
  {
   "cell_type": "markdown",
   "id": "3376ddd6",
   "metadata": {},
   "source": [
    "### Numeric\n",
    "\n",
    "Numeric variables can be represented as integers or decimal values (float/double). Sometimes integers depict measurements that represent actual integer values (e.g., number of apartments in a building) and sometimes they represent ordinal values (e.g., survey responses of \"strongly disagree\", \"disagree\", etc.).\n",
    "\n",
    "Let's create an example dataset that contains some of the variables."
   ]
  },
  {
   "cell_type": "code",
   "execution_count": 15,
   "id": "a3ed207e",
   "metadata": {},
   "outputs": [],
   "source": [
    "housing <- tribble(\n",
    "    ~resident_id, ~unit_id, ~age, ~education, ~income,\n",
    "               1,        1,   35,          6,    57324,\n",
    "               2,        1,   27,          5,    67366,\n",
    "               3,        2,   42,        -99,    47343,\n",
    "               4,        3,   56,          4,   -43123,\n",
    ")"
   ]
  },
  {
   "cell_type": "markdown",
   "id": "68a64ce4",
   "metadata": {},
   "source": [
    "One of the first thing to do with numeric values are making sure you're representing missing values correctly. Many data sources will sometimes encode missing values with a placeholder value like -99. Double check your data documentation to make sure you know how missing values are encoded."
   ]
  },
  {
   "cell_type": "code",
   "execution_count": 16,
   "id": "40df975a",
   "metadata": {},
   "outputs": [
    {
     "data": {
      "text/html": [
       "<table class=\"dataframe\">\n",
       "<caption>A tibble: 4 × 5</caption>\n",
       "<thead>\n",
       "\t<tr><th scope=col>resident_id</th><th scope=col>unit_id</th><th scope=col>age</th><th scope=col>education</th><th scope=col>income</th></tr>\n",
       "\t<tr><th scope=col>&lt;dbl&gt;</th><th scope=col>&lt;dbl&gt;</th><th scope=col>&lt;dbl&gt;</th><th scope=col>&lt;dbl&gt;</th><th scope=col>&lt;dbl&gt;</th></tr>\n",
       "</thead>\n",
       "<tbody>\n",
       "\t<tr><td>1</td><td>1</td><td>35</td><td> 6</td><td> 57324</td></tr>\n",
       "\t<tr><td>2</td><td>1</td><td>27</td><td> 5</td><td> 67366</td></tr>\n",
       "\t<tr><td>3</td><td>2</td><td>42</td><td>NA</td><td> 47343</td></tr>\n",
       "\t<tr><td>4</td><td>3</td><td>56</td><td> 4</td><td>-43123</td></tr>\n",
       "</tbody>\n",
       "</table>\n"
      ],
      "text/latex": [
       "A tibble: 4 × 5\n",
       "\\begin{tabular}{lllll}\n",
       " resident\\_id & unit\\_id & age & education & income\\\\\n",
       " <dbl> & <dbl> & <dbl> & <dbl> & <dbl>\\\\\n",
       "\\hline\n",
       "\t 1 & 1 & 35 &  6 &  57324\\\\\n",
       "\t 2 & 1 & 27 &  5 &  67366\\\\\n",
       "\t 3 & 2 & 42 & NA &  47343\\\\\n",
       "\t 4 & 3 & 56 &  4 & -43123\\\\\n",
       "\\end{tabular}\n"
      ],
      "text/markdown": [
       "\n",
       "A tibble: 4 × 5\n",
       "\n",
       "| resident_id &lt;dbl&gt; | unit_id &lt;dbl&gt; | age &lt;dbl&gt; | education &lt;dbl&gt; | income &lt;dbl&gt; |\n",
       "|---|---|---|---|---|\n",
       "| 1 | 1 | 35 |  6 |  57324 |\n",
       "| 2 | 1 | 27 |  5 |  67366 |\n",
       "| 3 | 2 | 42 | NA |  47343 |\n",
       "| 4 | 3 | 56 |  4 | -43123 |\n",
       "\n"
      ],
      "text/plain": [
       "  resident_id unit_id age education income\n",
       "1 1           1       35   6         57324\n",
       "2 2           1       27   5         67366\n",
       "3 3           2       42  NA         47343\n",
       "4 4           3       56   4        -43123"
      ]
     },
     "metadata": {},
     "output_type": "display_data"
    }
   ],
   "source": [
    "housing %>% mutate(education = na_if(education, -99))"
   ]
  },
  {
   "cell_type": "markdown",
   "id": "44e73e03",
   "metadata": {},
   "source": [
    "Sometimes numeric values have intervals they fall between. For example, the fraction of days absent in a school year must fall between zero and one. Or height must be greater than 0. However, there are sometimes ambigious situations. For example, we might think income needs to be at least zero. But if someone includes business losses in their reported income, negative values might be plausible! For now, let's suppose losses are not possible in our dataset. We can recode all values we think are invalid as missing."
   ]
  },
  {
   "cell_type": "code",
   "execution_count": 17,
   "id": "fea1f8a1",
   "metadata": {},
   "outputs": [
    {
     "data": {
      "text/html": [
       "<table class=\"dataframe\">\n",
       "<caption>A tibble: 4 × 5</caption>\n",
       "<thead>\n",
       "\t<tr><th scope=col>resident_id</th><th scope=col>unit_id</th><th scope=col>age</th><th scope=col>education</th><th scope=col>income</th></tr>\n",
       "\t<tr><th scope=col>&lt;dbl&gt;</th><th scope=col>&lt;dbl&gt;</th><th scope=col>&lt;dbl&gt;</th><th scope=col>&lt;dbl&gt;</th><th scope=col>&lt;dbl&gt;</th></tr>\n",
       "</thead>\n",
       "<tbody>\n",
       "\t<tr><td>1</td><td>1</td><td>35</td><td>  6</td><td>57324</td></tr>\n",
       "\t<tr><td>2</td><td>1</td><td>27</td><td>  5</td><td>67366</td></tr>\n",
       "\t<tr><td>3</td><td>2</td><td>42</td><td>-99</td><td>47343</td></tr>\n",
       "\t<tr><td>4</td><td>3</td><td>56</td><td>  4</td><td>   NA</td></tr>\n",
       "</tbody>\n",
       "</table>\n"
      ],
      "text/latex": [
       "A tibble: 4 × 5\n",
       "\\begin{tabular}{lllll}\n",
       " resident\\_id & unit\\_id & age & education & income\\\\\n",
       " <dbl> & <dbl> & <dbl> & <dbl> & <dbl>\\\\\n",
       "\\hline\n",
       "\t 1 & 1 & 35 &   6 & 57324\\\\\n",
       "\t 2 & 1 & 27 &   5 & 67366\\\\\n",
       "\t 3 & 2 & 42 & -99 & 47343\\\\\n",
       "\t 4 & 3 & 56 &   4 &    NA\\\\\n",
       "\\end{tabular}\n"
      ],
      "text/markdown": [
       "\n",
       "A tibble: 4 × 5\n",
       "\n",
       "| resident_id &lt;dbl&gt; | unit_id &lt;dbl&gt; | age &lt;dbl&gt; | education &lt;dbl&gt; | income &lt;dbl&gt; |\n",
       "|---|---|---|---|---|\n",
       "| 1 | 1 | 35 |   6 | 57324 |\n",
       "| 2 | 1 | 27 |   5 | 67366 |\n",
       "| 3 | 2 | 42 | -99 | 47343 |\n",
       "| 4 | 3 | 56 |   4 |    NA |\n",
       "\n"
      ],
      "text/plain": [
       "  resident_id unit_id age education income\n",
       "1 1           1       35    6       57324 \n",
       "2 2           1       27    5       67366 \n",
       "3 3           2       42  -99       47343 \n",
       "4 4           3       56    4          NA "
      ]
     },
     "metadata": {},
     "output_type": "display_data"
    }
   ],
   "source": [
    "housing %>% mutate(income = replace(income, income < 0, NA))"
   ]
  },
  {
   "cell_type": "markdown",
   "id": "17658915",
   "metadata": {},
   "source": [
    "Once you're more confident with the values in your numeric columns, you're ready to do the calculations needed for your analysis! Sometimes this could mean doing transformations of variables."
   ]
  },
  {
   "cell_type": "code",
   "execution_count": 18,
   "id": "09725cd1",
   "metadata": {},
   "outputs": [
    {
     "data": {
      "text/html": [
       "<table class=\"dataframe\">\n",
       "<caption>A tibble: 4 × 6</caption>\n",
       "<thead>\n",
       "\t<tr><th scope=col>resident_id</th><th scope=col>unit_id</th><th scope=col>age</th><th scope=col>education</th><th scope=col>income</th><th scope=col>ln_income</th></tr>\n",
       "\t<tr><th scope=col>&lt;dbl&gt;</th><th scope=col>&lt;dbl&gt;</th><th scope=col>&lt;dbl&gt;</th><th scope=col>&lt;dbl&gt;</th><th scope=col>&lt;dbl&gt;</th><th scope=col>&lt;dbl&gt;</th></tr>\n",
       "</thead>\n",
       "<tbody>\n",
       "\t<tr><td>1</td><td>1</td><td>35</td><td>  6</td><td>57324</td><td>10.95647</td></tr>\n",
       "\t<tr><td>2</td><td>1</td><td>27</td><td>  5</td><td>67366</td><td>11.11790</td></tr>\n",
       "\t<tr><td>3</td><td>2</td><td>42</td><td>-99</td><td>47343</td><td>10.76517</td></tr>\n",
       "\t<tr><td>4</td><td>3</td><td>56</td><td>  4</td><td>   NA</td><td>      NA</td></tr>\n",
       "</tbody>\n",
       "</table>\n"
      ],
      "text/latex": [
       "A tibble: 4 × 6\n",
       "\\begin{tabular}{llllll}\n",
       " resident\\_id & unit\\_id & age & education & income & ln\\_income\\\\\n",
       " <dbl> & <dbl> & <dbl> & <dbl> & <dbl> & <dbl>\\\\\n",
       "\\hline\n",
       "\t 1 & 1 & 35 &   6 & 57324 & 10.95647\\\\\n",
       "\t 2 & 1 & 27 &   5 & 67366 & 11.11790\\\\\n",
       "\t 3 & 2 & 42 & -99 & 47343 & 10.76517\\\\\n",
       "\t 4 & 3 & 56 &   4 &    NA &       NA\\\\\n",
       "\\end{tabular}\n"
      ],
      "text/markdown": [
       "\n",
       "A tibble: 4 × 6\n",
       "\n",
       "| resident_id &lt;dbl&gt; | unit_id &lt;dbl&gt; | age &lt;dbl&gt; | education &lt;dbl&gt; | income &lt;dbl&gt; | ln_income &lt;dbl&gt; |\n",
       "|---|---|---|---|---|---|\n",
       "| 1 | 1 | 35 |   6 | 57324 | 10.95647 |\n",
       "| 2 | 1 | 27 |   5 | 67366 | 11.11790 |\n",
       "| 3 | 2 | 42 | -99 | 47343 | 10.76517 |\n",
       "| 4 | 3 | 56 |   4 |    NA |       NA |\n",
       "\n"
      ],
      "text/plain": [
       "  resident_id unit_id age education income ln_income\n",
       "1 1           1       35    6       57324  10.95647 \n",
       "2 2           1       27    5       67366  11.11790 \n",
       "3 3           2       42  -99       47343  10.76517 \n",
       "4 4           3       56    4          NA        NA "
      ]
     },
     "metadata": {},
     "output_type": "display_data"
    }
   ],
   "source": [
    "housing %>% mutate(income = replace(income, income < 0, NA)) %>%\n",
    "    mutate(ln_income = log(income))"
   ]
  },
  {
   "cell_type": "markdown",
   "id": "5a0135c0",
   "metadata": {},
   "source": [
    "Or sometimes you need to do aggregations."
   ]
  },
  {
   "cell_type": "code",
   "execution_count": 19,
   "id": "a7103586",
   "metadata": {},
   "outputs": [
    {
     "data": {
      "text/html": [
       "<table class=\"dataframe\">\n",
       "<caption>A tibble: 3 × 2</caption>\n",
       "<thead>\n",
       "\t<tr><th scope=col>unit_id</th><th scope=col>avg_unit_income</th></tr>\n",
       "\t<tr><th scope=col>&lt;dbl&gt;</th><th scope=col>&lt;dbl&gt;</th></tr>\n",
       "</thead>\n",
       "<tbody>\n",
       "\t<tr><td>1</td><td>62345</td></tr>\n",
       "\t<tr><td>2</td><td>47343</td></tr>\n",
       "\t<tr><td>3</td><td>  NaN</td></tr>\n",
       "</tbody>\n",
       "</table>\n"
      ],
      "text/latex": [
       "A tibble: 3 × 2\n",
       "\\begin{tabular}{ll}\n",
       " unit\\_id & avg\\_unit\\_income\\\\\n",
       " <dbl> & <dbl>\\\\\n",
       "\\hline\n",
       "\t 1 & 62345\\\\\n",
       "\t 2 & 47343\\\\\n",
       "\t 3 &   NaN\\\\\n",
       "\\end{tabular}\n"
      ],
      "text/markdown": [
       "\n",
       "A tibble: 3 × 2\n",
       "\n",
       "| unit_id &lt;dbl&gt; | avg_unit_income &lt;dbl&gt; |\n",
       "|---|---|\n",
       "| 1 | 62345 |\n",
       "| 2 | 47343 |\n",
       "| 3 |   NaN |\n",
       "\n"
      ],
      "text/plain": [
       "  unit_id avg_unit_income\n",
       "1 1       62345          \n",
       "2 2       47343          \n",
       "3 3         NaN          "
      ]
     },
     "metadata": {},
     "output_type": "display_data"
    }
   ],
   "source": [
    "housing %>% mutate(income = replace(income, income < 0, NA)) %>%\n",
    "    group_by(unit_id) %>%\n",
    "    summarize(avg_unit_income = mean(income, na.rm = TRUE))"
   ]
  }
 ],
 "metadata": {
  "kernelspec": {
   "display_name": "R",
   "language": "R",
   "name": "ir"
  },
  "language_info": {
   "codemirror_mode": "r",
   "file_extension": ".r",
   "mimetype": "text/x-r-source",
   "name": "R",
   "pygments_lexer": "r",
   "version": "4.2.0"
  }
 },
 "nbformat": 4,
 "nbformat_minor": 5
}
