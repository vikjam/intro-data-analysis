{
 "cells": [
  {
   "cell_type": "markdown",
   "id": "971e775b",
   "metadata": {},
   "source": [
    "# Data Wrangling\n",
    "\n",
    "Data wrangling comprises a substantial portion of every data professional's life. Wrangling data encompasses the steps you undertake to organize and clean for your analysis. Wrangling includes merging and appending datasets, finding typos, and creating new variables.\n",
    "\n",
    "For this exercise, we'll be using public data from [LendingClub](https://www.lendingclub.com), an online loan provider. There are two datasets one with the LendingClub loans (`loans`) and one with the other loans held by the consumer (`credit_record`).\n",
    "\n",
    "Let's start with loading some libraries.\n",
    "- **readr**: Load datasets\n",
    "- **dplyr**: Manipulate data\n",
    "- **lubridate**: Handle dates"
   ]
  },
  {
   "cell_type": "code",
   "execution_count": 3,
   "id": "23298573",
   "metadata": {},
   "outputs": [
    {
     "name": "stderr",
     "output_type": "stream",
     "text": [
      "\n",
      "Attaching package: ‘dplyr’\n",
      "\n",
      "\n",
      "The following objects are masked from ‘package:stats’:\n",
      "\n",
      "    filter, lag\n",
      "\n",
      "\n",
      "The following objects are masked from ‘package:base’:\n",
      "\n",
      "    intersect, setdiff, setequal, union\n",
      "\n",
      "\n",
      "\n",
      "Attaching package: ‘lubridate’\n",
      "\n",
      "\n",
      "The following objects are masked from ‘package:base’:\n",
      "\n",
      "    date, intersect, setdiff, union\n",
      "\n",
      "\n"
     ]
    }
   ],
   "source": [
    "library(readr)\n",
    "library(dplyr)\n",
    "library(lubridate)"
   ]
  },
  {
   "cell_type": "markdown",
   "id": "526a4f5d",
   "metadata": {},
   "source": [
    "Let's load the data! It's a CSV that has been compressed by `gzip`, which `readr` can read in automatically but we need to download it first."
   ]
  },
  {
   "cell_type": "code",
   "execution_count": 4,
   "id": "1259b915",
   "metadata": {},
   "outputs": [
    {
     "name": "stderr",
     "output_type": "stream",
     "text": [
      "\n",
      "\u001b[36m──\u001b[39m \u001b[1m\u001b[1mColumn specification\u001b[1m\u001b[22m \u001b[36m───────────────────────────────────────────────────────────────────────────────────────────────\u001b[39m\n",
      "cols(\n",
      "  member_id = \u001b[32mcol_double()\u001b[39m,\n",
      "  loan_status = \u001b[32mcol_double()\u001b[39m,\n",
      "  status_dt = \u001b[34mcol_date(format = \"\")\u001b[39m,\n",
      "  int_rate = \u001b[32mcol_double()\u001b[39m,\n",
      "  dti = \u001b[32mcol_double()\u001b[39m\n",
      ")\n",
      "\n",
      "\n",
      "\n",
      "\u001b[36m──\u001b[39m \u001b[1m\u001b[1mColumn specification\u001b[1m\u001b[22m \u001b[36m───────────────────────────────────────────────────────────────────────────────────────────────\u001b[39m\n",
      "cols(\n",
      "  member_id = \u001b[32mcol_double()\u001b[39m,\n",
      "  loan_id = \u001b[32mcol_double()\u001b[39m,\n",
      "  record_dt = \u001b[34mcol_date(format = \"\")\u001b[39m,\n",
      "  open_acc = \u001b[32mcol_double()\u001b[39m,\n",
      "  delinq_payment = \u001b[32mcol_double()\u001b[39m\n",
      ")\n",
      "\n",
      "\n"
     ]
    }
   ],
   "source": [
    "# Store the URL in a variable\n",
    "URL_LOANS <- \"https://www.dropbox.com/s/0f7jetfmcy18y1n/loans.csv.gz?dl=1\"\n",
    "URL_CREDIT_RECORD <- \"https://www.dropbox.com/s/qh45gs56s4omq8o/credit_record.csv.gz?dl=1\"\n",
    "\n",
    "# Download the files\n",
    "download.file(URL_LOANS, \"loans.csv.gz\")\n",
    "download.file(URL_CREDIT_RECORD, \"credit_record.csv.gz\")\n",
    "\n",
    "# Load the files\n",
    "loans <- read_csv(\"loans.csv.gz\")\n",
    "credit_record <- read_csv(\"credit_record.csv.gz\")"
   ]
  },
  {
   "cell_type": "code",
   "execution_count": 5,
   "id": "972cbe87",
   "metadata": {},
   "outputs": [
    {
     "data": {
      "text/html": [
       "<table class=\"dataframe\">\n",
       "<caption>A tibble: 6 × 5</caption>\n",
       "<thead>\n",
       "\t<tr><th scope=col>member_id</th><th scope=col>loan_status</th><th scope=col>status_dt</th><th scope=col>int_rate</th><th scope=col>dti</th></tr>\n",
       "\t<tr><th scope=col>&lt;dbl&gt;</th><th scope=col>&lt;dbl&gt;</th><th scope=col>&lt;date&gt;</th><th scope=col>&lt;dbl&gt;</th><th scope=col>&lt;dbl&gt;</th></tr>\n",
       "</thead>\n",
       "<tbody>\n",
       "\t<tr><td>1</td><td>1</td><td>2007-07-20</td><td>10.65</td><td>27.65</td></tr>\n",
       "\t<tr><td>2</td><td>1</td><td>2007-07-20</td><td> 7.90</td><td>11.20</td></tr>\n",
       "\t<tr><td>3</td><td>1</td><td>2007-07-20</td><td>17.58</td><td>18.79</td></tr>\n",
       "\t<tr><td>4</td><td>1</td><td>2007-07-20</td><td>20.30</td><td>23.21</td></tr>\n",
       "\t<tr><td>5</td><td>0</td><td>2007-07-20</td><td> 9.91</td><td> 7.83</td></tr>\n",
       "\t<tr><td>6</td><td>1</td><td>2007-07-20</td><td>16.29</td><td>18.18</td></tr>\n",
       "</tbody>\n",
       "</table>\n"
      ],
      "text/latex": [
       "A tibble: 6 × 5\n",
       "\\begin{tabular}{lllll}\n",
       " member\\_id & loan\\_status & status\\_dt & int\\_rate & dti\\\\\n",
       " <dbl> & <dbl> & <date> & <dbl> & <dbl>\\\\\n",
       "\\hline\n",
       "\t 1 & 1 & 2007-07-20 & 10.65 & 27.65\\\\\n",
       "\t 2 & 1 & 2007-07-20 &  7.90 & 11.20\\\\\n",
       "\t 3 & 1 & 2007-07-20 & 17.58 & 18.79\\\\\n",
       "\t 4 & 1 & 2007-07-20 & 20.30 & 23.21\\\\\n",
       "\t 5 & 0 & 2007-07-20 &  9.91 &  7.83\\\\\n",
       "\t 6 & 1 & 2007-07-20 & 16.29 & 18.18\\\\\n",
       "\\end{tabular}\n"
      ],
      "text/markdown": [
       "\n",
       "A tibble: 6 × 5\n",
       "\n",
       "| member_id &lt;dbl&gt; | loan_status &lt;dbl&gt; | status_dt &lt;date&gt; | int_rate &lt;dbl&gt; | dti &lt;dbl&gt; |\n",
       "|---|---|---|---|---|\n",
       "| 1 | 1 | 2007-07-20 | 10.65 | 27.65 |\n",
       "| 2 | 1 | 2007-07-20 |  7.90 | 11.20 |\n",
       "| 3 | 1 | 2007-07-20 | 17.58 | 18.79 |\n",
       "| 4 | 1 | 2007-07-20 | 20.30 | 23.21 |\n",
       "| 5 | 0 | 2007-07-20 |  9.91 |  7.83 |\n",
       "| 6 | 1 | 2007-07-20 | 16.29 | 18.18 |\n",
       "\n"
      ],
      "text/plain": [
       "  member_id loan_status status_dt  int_rate dti  \n",
       "1 1         1           2007-07-20 10.65    27.65\n",
       "2 2         1           2007-07-20  7.90    11.20\n",
       "3 3         1           2007-07-20 17.58    18.79\n",
       "4 4         1           2007-07-20 20.30    23.21\n",
       "5 5         0           2007-07-20  9.91     7.83\n",
       "6 6         1           2007-07-20 16.29    18.18"
      ]
     },
     "metadata": {},
     "output_type": "display_data"
    }
   ],
   "source": [
    "# Print the first few rows of the loans\n",
    "head(loans)"
   ]
  },
  {
   "cell_type": "code",
   "execution_count": 6,
   "id": "243e4a72",
   "metadata": {},
   "outputs": [
    {
     "data": {
      "text/html": [
       "<table class=\"dataframe\">\n",
       "<caption>A tibble: 6 × 5</caption>\n",
       "<thead>\n",
       "\t<tr><th scope=col>member_id</th><th scope=col>loan_id</th><th scope=col>record_dt</th><th scope=col>open_acc</th><th scope=col>delinq_payment</th></tr>\n",
       "\t<tr><th scope=col>&lt;dbl&gt;</th><th scope=col>&lt;dbl&gt;</th><th scope=col>&lt;date&gt;</th><th scope=col>&lt;dbl&gt;</th><th scope=col>&lt;dbl&gt;</th></tr>\n",
       "</thead>\n",
       "<tbody>\n",
       "\t<tr><td>1</td><td>1</td><td>2005-07-12</td><td>1</td><td>0</td></tr>\n",
       "\t<tr><td>1</td><td>1</td><td>2005-08-12</td><td>1</td><td>0</td></tr>\n",
       "\t<tr><td>1</td><td>1</td><td>2005-09-12</td><td>1</td><td>0</td></tr>\n",
       "\t<tr><td>1</td><td>1</td><td>2005-10-12</td><td>1</td><td>0</td></tr>\n",
       "\t<tr><td>1</td><td>1</td><td>2005-11-12</td><td>1</td><td>0</td></tr>\n",
       "\t<tr><td>1</td><td>1</td><td>2005-12-12</td><td>1</td><td>0</td></tr>\n",
       "</tbody>\n",
       "</table>\n"
      ],
      "text/latex": [
       "A tibble: 6 × 5\n",
       "\\begin{tabular}{lllll}\n",
       " member\\_id & loan\\_id & record\\_dt & open\\_acc & delinq\\_payment\\\\\n",
       " <dbl> & <dbl> & <date> & <dbl> & <dbl>\\\\\n",
       "\\hline\n",
       "\t 1 & 1 & 2005-07-12 & 1 & 0\\\\\n",
       "\t 1 & 1 & 2005-08-12 & 1 & 0\\\\\n",
       "\t 1 & 1 & 2005-09-12 & 1 & 0\\\\\n",
       "\t 1 & 1 & 2005-10-12 & 1 & 0\\\\\n",
       "\t 1 & 1 & 2005-11-12 & 1 & 0\\\\\n",
       "\t 1 & 1 & 2005-12-12 & 1 & 0\\\\\n",
       "\\end{tabular}\n"
      ],
      "text/markdown": [
       "\n",
       "A tibble: 6 × 5\n",
       "\n",
       "| member_id &lt;dbl&gt; | loan_id &lt;dbl&gt; | record_dt &lt;date&gt; | open_acc &lt;dbl&gt; | delinq_payment &lt;dbl&gt; |\n",
       "|---|---|---|---|---|\n",
       "| 1 | 1 | 2005-07-12 | 1 | 0 |\n",
       "| 1 | 1 | 2005-08-12 | 1 | 0 |\n",
       "| 1 | 1 | 2005-09-12 | 1 | 0 |\n",
       "| 1 | 1 | 2005-10-12 | 1 | 0 |\n",
       "| 1 | 1 | 2005-11-12 | 1 | 0 |\n",
       "| 1 | 1 | 2005-12-12 | 1 | 0 |\n",
       "\n"
      ],
      "text/plain": [
       "  member_id loan_id record_dt  open_acc delinq_payment\n",
       "1 1         1       2005-07-12 1        0             \n",
       "2 1         1       2005-08-12 1        0             \n",
       "3 1         1       2005-09-12 1        0             \n",
       "4 1         1       2005-10-12 1        0             \n",
       "5 1         1       2005-11-12 1        0             \n",
       "6 1         1       2005-12-12 1        0             "
      ]
     },
     "metadata": {},
     "output_type": "display_data"
    }
   ],
   "source": [
    "# Print the first few rows of the credit record file\n",
    "head(credit_record)"
   ]
  },
  {
   "cell_type": "markdown",
   "id": "e695a7c4",
   "metadata": {},
   "source": [
    "Let's say we want to add the number of times an individual has been deliquent on a payment in the last 2 years, last year and last 6 months to the `loans` dataset. Here are the steps we'll undertake.\n",
    "\n",
    "- First subset the loans by the columns we need.\n",
    "- Join the dataset to the credit record dataset.\n",
    "- Calculate the length of time between the credit record date and the loan status date.\n",
    "- Group by the individual member.\n",
    "- Collapse a sum of an indicator for a deqliquent payment times an indicator for the relevant time period."
   ]
  },
  {
   "cell_type": "code",
   "execution_count": 7,
   "id": "8b941103",
   "metadata": {},
   "outputs": [],
   "source": [
    "# Calculate deliquent payment aggregates by time periods\n",
    "delinq_totals <- loans %>% \n",
    "  select(member_id, status_dt) %>%\n",
    "  inner_join(credit_record, by = \"member_id\") %>%\n",
    "  mutate(years_since_rec = time_length(interval(record_dt, status_dt), unit = \"year\")) %>%\n",
    "  group_by(member_id) %>%\n",
    "  summarize(\n",
    "      delinq_6mo = sum(delinq_payment * (years_since_rec <= 0.5)),\n",
    "      delinq_1yr = sum(delinq_payment * (years_since_rec <= 1)),\n",
    "      delinq_2yr = sum(delinq_payment * (years_since_rec <= 2)),\n",
    "  ) %>%\n",
    "  ungroup()\n"
   ]
  },
  {
   "cell_type": "markdown",
   "id": "7c6c44cc-6c09-44af-be2b-cd01f8c03177",
   "metadata": {},
   "source": [
    "Merge the aggregates back to the loans dataset."
   ]
  },
  {
   "cell_type": "code",
   "execution_count": 8,
   "id": "93cd8727",
   "metadata": {},
   "outputs": [],
   "source": [
    "# Merge the aggregates back to the loans dataset.\n",
    "loans_w_delinq <- loans %>%\n",
    "left_join(delinq_totals, by = \"member_id\")"
   ]
  },
  {
   "cell_type": "code",
   "execution_count": 10,
   "id": "043d9ede-9bda-43c2-971b-ec93be19940f",
   "metadata": {},
   "outputs": [
    {
     "data": {
      "text/html": [
       "<table class=\"dataframe\">\n",
       "<caption>A tibble: 6 × 8</caption>\n",
       "<thead>\n",
       "\t<tr><th scope=col>member_id</th><th scope=col>loan_status</th><th scope=col>status_dt</th><th scope=col>int_rate</th><th scope=col>dti</th><th scope=col>delinq_6mo</th><th scope=col>delinq_1yr</th><th scope=col>delinq_2yr</th></tr>\n",
       "\t<tr><th scope=col>&lt;dbl&gt;</th><th scope=col>&lt;dbl&gt;</th><th scope=col>&lt;date&gt;</th><th scope=col>&lt;dbl&gt;</th><th scope=col>&lt;dbl&gt;</th><th scope=col>&lt;dbl&gt;</th><th scope=col>&lt;dbl&gt;</th><th scope=col>&lt;dbl&gt;</th></tr>\n",
       "</thead>\n",
       "<tbody>\n",
       "\t<tr><td> 50</td><td>1</td><td>2007-07-20</td><td>12.69</td><td>15.31</td><td>1</td><td>1</td><td>1</td></tr>\n",
       "\t<tr><td> 68</td><td>1</td><td>2007-07-20</td><td> 9.91</td><td>22.88</td><td>1</td><td>1</td><td>1</td></tr>\n",
       "\t<tr><td> 77</td><td>1</td><td>2007-07-20</td><td>14.27</td><td> 6.94</td><td>1</td><td>2</td><td>2</td></tr>\n",
       "\t<tr><td>195</td><td>1</td><td>2007-07-20</td><td>11.71</td><td> 8.73</td><td>1</td><td>1</td><td>1</td></tr>\n",
       "\t<tr><td>202</td><td>1</td><td>2007-07-20</td><td>12.42</td><td>19.78</td><td>1</td><td>1</td><td>1</td></tr>\n",
       "\t<tr><td>300</td><td>1</td><td>2007-07-20</td><td>20.99</td><td>21.20</td><td>1</td><td>1</td><td>1</td></tr>\n",
       "</tbody>\n",
       "</table>\n"
      ],
      "text/latex": [
       "A tibble: 6 × 8\n",
       "\\begin{tabular}{llllllll}\n",
       " member\\_id & loan\\_status & status\\_dt & int\\_rate & dti & delinq\\_6mo & delinq\\_1yr & delinq\\_2yr\\\\\n",
       " <dbl> & <dbl> & <date> & <dbl> & <dbl> & <dbl> & <dbl> & <dbl>\\\\\n",
       "\\hline\n",
       "\t  50 & 1 & 2007-07-20 & 12.69 & 15.31 & 1 & 1 & 1\\\\\n",
       "\t  68 & 1 & 2007-07-20 &  9.91 & 22.88 & 1 & 1 & 1\\\\\n",
       "\t  77 & 1 & 2007-07-20 & 14.27 &  6.94 & 1 & 2 & 2\\\\\n",
       "\t 195 & 1 & 2007-07-20 & 11.71 &  8.73 & 1 & 1 & 1\\\\\n",
       "\t 202 & 1 & 2007-07-20 & 12.42 & 19.78 & 1 & 1 & 1\\\\\n",
       "\t 300 & 1 & 2007-07-20 & 20.99 & 21.20 & 1 & 1 & 1\\\\\n",
       "\\end{tabular}\n"
      ],
      "text/markdown": [
       "\n",
       "A tibble: 6 × 8\n",
       "\n",
       "| member_id &lt;dbl&gt; | loan_status &lt;dbl&gt; | status_dt &lt;date&gt; | int_rate &lt;dbl&gt; | dti &lt;dbl&gt; | delinq_6mo &lt;dbl&gt; | delinq_1yr &lt;dbl&gt; | delinq_2yr &lt;dbl&gt; |\n",
       "|---|---|---|---|---|---|---|---|\n",
       "|  50 | 1 | 2007-07-20 | 12.69 | 15.31 | 1 | 1 | 1 |\n",
       "|  68 | 1 | 2007-07-20 |  9.91 | 22.88 | 1 | 1 | 1 |\n",
       "|  77 | 1 | 2007-07-20 | 14.27 |  6.94 | 1 | 2 | 2 |\n",
       "| 195 | 1 | 2007-07-20 | 11.71 |  8.73 | 1 | 1 | 1 |\n",
       "| 202 | 1 | 2007-07-20 | 12.42 | 19.78 | 1 | 1 | 1 |\n",
       "| 300 | 1 | 2007-07-20 | 20.99 | 21.20 | 1 | 1 | 1 |\n",
       "\n"
      ],
      "text/plain": [
       "  member_id loan_status status_dt  int_rate dti   delinq_6mo delinq_1yr\n",
       "1  50       1           2007-07-20 12.69    15.31 1          1         \n",
       "2  68       1           2007-07-20  9.91    22.88 1          1         \n",
       "3  77       1           2007-07-20 14.27     6.94 1          2         \n",
       "4 195       1           2007-07-20 11.71     8.73 1          1         \n",
       "5 202       1           2007-07-20 12.42    19.78 1          1         \n",
       "6 300       1           2007-07-20 20.99    21.20 1          1         \n",
       "  delinq_2yr\n",
       "1 1         \n",
       "2 1         \n",
       "3 2         \n",
       "4 1         \n",
       "5 1         \n",
       "6 1         "
      ]
     },
     "metadata": {},
     "output_type": "display_data"
    }
   ],
   "source": [
    "# Print the first few rows\n",
    "head(loans_w_delinq)"
   ]
  }
 ],
 "metadata": {
  "kernelspec": {
   "display_name": "R",
   "language": "R",
   "name": "ir"
  },
  "language_info": {
   "codemirror_mode": "r",
   "file_extension": ".r",
   "mimetype": "text/x-r-source",
   "name": "R",
   "pygments_lexer": "r",
   "version": "4.1.0"
  }
 },
 "nbformat": 4,
 "nbformat_minor": 5
}
