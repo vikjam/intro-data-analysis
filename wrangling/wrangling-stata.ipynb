{
 "cells": [
  {
   "cell_type": "markdown",
   "id": "32f051e1-7ae6-4bef-9867-1b3159677a8a",
   "metadata": {},
   "source": [
    "# Data Wrangling\n",
    "\n",
    "Data wrangling comprises a substantial portion of every data professional's life. Wrangling data encompasses the steps you undertake to organize and clean your underlying data for your analysis. Wrangling includes merging and appending datasets, finding typos, and creating new variables."
   ]
  },
  {
   "cell_type": "markdown",
   "id": "70a07814",
   "metadata": {},
   "source": [
    "## Tidy data\n",
    "\n",
    "Before we get to the analysis stage of a project, you'll likely first want to arrive at a \"cleaned\" dataset. Some may call this an \"analysis\" file, which implies you can start doing analysis without much more fuss. The exact structure of such an analysis file will vary between projects, but there are some fundamental concepts that are common across many situations. Let's start by taking a look at this example from the book, _R for Data Science_ by Hadley Wickham ([Chapter 12](https://r4ds.had.co.nz/tidy-data.html)). Consider the following tables of data."
   ]
  },
  {
   "cell_type": "code",
   "execution_count": 3,
   "id": "cea7af5c-e8f5-455a-8881-f99e5e8ac314",
   "metadata": {},
   "outputs": [
    {
     "name": "stdout",
     "output_type": "stream",
     "text": [
      "\n",
      "\n",
      "\n",
      "         country       year      cases  populat~n\n",
      "\n",
      "\n",
      "\n",
      "         country       year    variable      value\n",
      "\n",
      "\n",
      "\n",
      "         country      v1999      v2000\n",
      "\n",
      "\n",
      "\n",
      "         country      v1999      v2000\n"
     ]
    }
   ],
   "source": [
    "* Table (1)\n",
    "frames create infections_tidy\n",
    "frame infections_tidy {\n",
    "    input str11 country    year    cases   population\n",
    "          \"Afghanistan\"    1999      745     19987071  \n",
    "          \"Afghanistan\"    2000     2666     20595360  \n",
    "          \"Brazil\"         1999    37737    172006362  \n",
    "          \"Brazil\"         2000    80488    174504898  \n",
    "          \"China\"          1999   212258   1272915272  \n",
    "          \"China\"          2000   213766   1280428583\n",
    "    end\n",
    "}\n",
    "\n",
    "* Table (2)\n",
    "frames create infections_too_long\n",
    "frame infections_too_long {\n",
    "    input str11 country        year  str10 variable     value \n",
    "          \"Afghanistan\"        1999  \"cases\"              745 \n",
    "          \"Afghanistan\"        1999  \"population\"    19987071 \n",
    "          \"Afghanistan\"        2000  \"cases\"             2666 \n",
    "          \"Afghanistan\"        2000  \"population\"    20595360 \n",
    "          \"Brazil\"             1999  \"cases\"            37737 \n",
    "          \"Brazil\"             1999  \"population\"   172006362 \n",
    "          \"Brazil\"             2000  \"cases\"            80488 \n",
    "          \"Brazil\"             2000  \"population\"   174504898 \n",
    "          \"China\"              1999  \"cases\"           212258 \n",
    "          \"China\"              1999  \"population\"  1272915272 \n",
    "          \"China\"              2000  \"cases\"           213766 \n",
    "          \"China\"              2000  \"population\"  1280428583\n",
    "    end\n",
    "}\n",
    "\n",
    "* Table (3a)\n",
    "frames create infections_just_cases\n",
    "frame infections_just_cases {\n",
    "    input str11 country    v1999    v2000\n",
    "          \"Afghanistan\"      745     2666 \n",
    "          \"Brazil\"         37737    80488 \n",
    "          \"China\"         212258   213766\n",
    "    end\n",
    "}\n",
    "\n",
    "* Table (3b)\n",
    "frames create infections_just_population\n",
    "frame infections_just_population {\n",
    "    input str11 country      v1999        v2000\n",
    "          \"Afghanistan\"   19987071     20595360 \n",
    "          \"Brazil\"       172006362    174504898 \n",
    "          \"China\"       1272915272   1280428583\n",
    "    end\n",
    "}"
   ]
  },
  {
   "cell_type": "markdown",
   "id": "170b9b11",
   "metadata": {},
   "source": [
    "If you wanted to calculate the infection rate (cases per population) and plot it over time by country, which dataset makes that the easiest? Key factors in making a dataset \"tidy\":\n",
    "\n",
    "- Each variable must have its own column.\n",
    "- Each observation must have its own row.\n",
    "- Each value must have its own cell."
   ]
  },
  {
   "cell_type": "code",
   "execution_count": 4,
   "id": "2ed5c030",
   "metadata": {},
   "outputs": [
    {
     "name": "stdout",
     "output_type": "stream",
     "text": [
      "\n",
      "\n",
      "(j = cases population)\n",
      "\n",
      "Data                               Long   ->   Wide\n",
      "-----------------------------------------------------------------------------\n",
      "Number of observations               12   ->   6           \n",
      "Number of variables                   4   ->   4           \n",
      "j variable (2 values)          variable   ->   (dropped)\n",
      "xij variables:\n",
      "                                  value   ->   valuecases valuepopulation\n",
      "-----------------------------------------------------------------------------\n",
      "\n",
      "\n",
      "     +------------------------------------------+\n",
      "     |     country   year   valuec~s   valuep~n |\n",
      "     |------------------------------------------|\n",
      "  1. | Afghanistan   1999        745   2.00e+07 |\n",
      "  2. | Afghanistan   2000       2666   2.06e+07 |\n",
      "  3. |      Brazil   1999      37737   1.72e+08 |\n",
      "  4. |      Brazil   2000      80488   1.75e+08 |\n",
      "  5. |       China   1999     212258   1.27e+09 |\n",
      "     |------------------------------------------|\n",
      "  6. |       China   2000     213766   1.28e+09 |\n",
      "     +------------------------------------------+\n"
     ]
    }
   ],
   "source": [
    "* Table (2)\n",
    "frames change infections_too_long\n",
    "reshape wide value, i(country year) j(variable) string\n",
    "list"
   ]
  },
  {
   "cell_type": "code",
   "execution_count": 5,
   "id": "2eb95f70",
   "metadata": {},
   "outputs": [
    {
     "name": "stdout",
     "output_type": "stream",
     "text": [
      "\n",
      "\n",
      "(j = 1999 2000)\n",
      "\n",
      "Data                               Wide   ->   Long\n",
      "-----------------------------------------------------------------------------\n",
      "Number of observations                3   ->   6           \n",
      "Number of variables                   3   ->   3           \n",
      "j variable (2 values)                     ->   year\n",
      "xij variables:\n",
      "                            v1999 v2000   ->   v\n",
      "-----------------------------------------------------------------------------\n",
      "\n",
      "\n",
      "\n",
      "     +-----------------------------+\n",
      "     |     country   year    cases |\n",
      "     |-----------------------------|\n",
      "  1. | Afghanistan   1999      745 |\n",
      "  2. | Afghanistan   2000     2666 |\n",
      "  3. |      Brazil   1999    37737 |\n",
      "  4. |      Brazil   2000    80488 |\n",
      "  5. |       China   1999   212258 |\n",
      "     |-----------------------------|\n",
      "  6. |       China   2000   213766 |\n",
      "     +-----------------------------+\n",
      "\n",
      "\n",
      "file /var/folders/0w/ccbmzx092b5_9bnw8th_jccw0000gn/T//St15000.000001 saved as\n",
      "    .dta format\n",
      "\n",
      "\n",
      "(j = 1999 2000)\n",
      "\n",
      "Data                               Wide   ->   Long\n",
      "-----------------------------------------------------------------------------\n",
      "Number of observations                3   ->   6           \n",
      "Number of variables                   3   ->   3           \n",
      "j variable (2 values)                     ->   year\n",
      "xij variables:\n",
      "                            v1999 v2000   ->   v\n",
      "-----------------------------------------------------------------------------\n",
      "\n",
      "\n",
      "\n",
      "     +-------------------------------+\n",
      "     |     country   year   popula~n |\n",
      "     |-------------------------------|\n",
      "  1. | Afghanistan   1999   2.00e+07 |\n",
      "  2. | Afghanistan   2000   2.06e+07 |\n",
      "  3. |      Brazil   1999   1.72e+08 |\n",
      "  4. |      Brazil   2000   1.75e+08 |\n",
      "  5. |       China   1999   1.27e+09 |\n",
      "     |-------------------------------|\n",
      "  6. |       China   2000   1.28e+09 |\n",
      "     +-------------------------------+\n",
      "\n",
      "\n",
      "    Result                      Number of obs\n",
      "    -----------------------------------------\n",
      "    Not matched                             0\n",
      "    Matched                                 6  (_merge==3)\n",
      "    -----------------------------------------\n",
      "\n",
      "\n",
      "     +------------------------------------------------------+\n",
      "     |     country   year   popula~n    cases        _merge |\n",
      "     |------------------------------------------------------|\n",
      "  1. | Afghanistan   1999   2.00e+07      745   Matched (3) |\n",
      "  2. | Afghanistan   2000   2.06e+07     2666   Matched (3) |\n",
      "  3. |      Brazil   1999   1.72e+08    37737   Matched (3) |\n",
      "  4. |      Brazil   2000   1.75e+08    80488   Matched (3) |\n",
      "  5. |       China   1999   1.27e+09   212258   Matched (3) |\n",
      "     |------------------------------------------------------|\n",
      "  6. |       China   2000   1.28e+09   213766   Matched (3) |\n",
      "     +------------------------------------------------------+\n"
     ]
    }
   ],
   "source": [
    "* Tables (3a) + (3b)\n",
    "\n",
    "* Step (1): Reshape to long\n",
    "* Step (2): Rename variables\n",
    "frames change infections_just_cases\n",
    "reshape long v, i(country) j(year)\n",
    "rename v cases\n",
    "list\n",
    "* Save to tempfile to illustrate merge instead of frget/frlink\n",
    "tempfile infections_just_cases\n",
    "save `infections_just_cases'\n",
    "\n",
    "frames change infections_just_population\n",
    "reshape long v, i(country) j(year)\n",
    "rename v population\n",
    "list\n",
    "\n",
    "* Step (3): Join the data\n",
    "merge 1:1 country year using `infections_just_cases'\n",
    "list"
   ]
  },
  {
   "cell_type": "markdown",
   "id": "b1f0c200",
   "metadata": {},
   "source": [
    "## Tidy values\n",
    "\n",
    "The previous section discussed the overall structure of the dataset. Now let's dig into common problems you'll run into with actual values (cells) of your data. We can divide these into two categories:\n",
    "\n",
    "- Strings\n",
    "- Numeric\n",
    "\n",
    "There are of course other types of data types (dates, boolean and factors), but let's just focus on these main types for the moment.\n",
    "\n",
    "### Strings\n",
    "\n",
    "Strings can be very messy! Let's take the simple example of just asking people to write down what campus they attend."
   ]
  },
  {
   "cell_type": "code",
   "execution_count": 6,
   "id": "c3e7f9d2",
   "metadata": {},
   "outputs": [
    {
     "name": "stdout",
     "output_type": "stream",
     "text": [
      "\n",
      "\n",
      "\n",
      "     student~d          campus\n"
     ]
    }
   ],
   "source": [
    "clear all\n",
    "input student_id  str14 campus \n",
    "               1  \"BERKELEY\"       // Capitalization\n",
    "               2  \"UCLA \"          // Trailing space\n",
    "               3  \" UCLA\"          // Leading space            \n",
    "               4  \"U.C.L.A.\"       // Punctuation\n",
    "               5  \"Berkely \"       // Typos\n",
    "               6  \"UC  Berkeley\"   // Embedded blanks\n",
    "               7  \"UCB\"            // Abbreviations\n",
    "               8  \"Not applicable\" // Missing\n",
    "end"
   ]
  },
  {
   "cell_type": "code",
   "execution_count": 7,
   "id": "b24bec62",
   "metadata": {},
   "outputs": [
    {
     "name": "stdout",
     "output_type": "stream",
     "text": [
      "\n",
      "\n",
      "\n",
      "     +--------------------------------------------+\n",
      "     | studen~d           campus   consistent_c~s |\n",
      "     |--------------------------------------------|\n",
      "  1. |        1         BERKELEY         BERKELEY |\n",
      "  2. |        2            UCLA             UCLA  |\n",
      "  3. |        3             UCLA             UCLA |\n",
      "  4. |        4         U.C.L.A.         U.C.L.A. |\n",
      "  5. |        5         Berkely          BERKELY  |\n",
      "     |--------------------------------------------|\n",
      "  6. |        6     UC  Berkeley     UC  BERKELEY |\n",
      "  7. |        7              UCB              UCB |\n",
      "  8. |        8   Not applicable   NOT APPLICABLE |\n",
      "     +--------------------------------------------+\n"
     ]
    }
   ],
   "source": [
    "* Let's make all campuses uppercase\n",
    "gen consistent_campus = strupper(campus)\n",
    "list"
   ]
  },
  {
   "cell_type": "code",
   "execution_count": 8,
   "id": "7abca605",
   "metadata": {},
   "outputs": [
    {
     "name": "stdout",
     "output_type": "stream",
     "text": [
      "\n",
      "(3 real changes made)\n",
      "\n",
      "(1 real change made)\n",
      "\n",
      "\n",
      "     +--------------------------------------------+\n",
      "     | studen~d           campus   consistent_c~s |\n",
      "     |--------------------------------------------|\n",
      "  1. |        1         BERKELEY         BERKELEY |\n",
      "  2. |        2            UCLA              UCLA |\n",
      "  3. |        3             UCLA             UCLA |\n",
      "  4. |        4         U.C.L.A.         U.C.L.A. |\n",
      "  5. |        5         Berkely           BERKELY |\n",
      "     |--------------------------------------------|\n",
      "  6. |        6     UC  Berkeley      UC BERKELEY |\n",
      "  7. |        7              UCB              UCB |\n",
      "  8. |        8   Not applicable   NOT APPLICABLE |\n",
      "     +--------------------------------------------+\n"
     ]
    }
   ],
   "source": [
    "* Let's get rid of the leading/trailing spaces\n",
    "replace consistent_campus = strtrim(consistent_campus)\n",
    "\n",
    "* And get rid of consecutive spaces\n",
    "replace consistent_campus = itrim(consistent_campus)\n",
    "\n",
    "list"
   ]
  },
  {
   "cell_type": "code",
   "execution_count": 9,
   "id": "96ab6388",
   "metadata": {},
   "outputs": [
    {
     "name": "stdout",
     "output_type": "stream",
     "text": [
      "\n",
      "(1 real change made)\n",
      "\n",
      "\n",
      "     +--------------------------------------------+\n",
      "     | studen~d           campus   consistent_c~s |\n",
      "     |--------------------------------------------|\n",
      "  1. |        1         BERKELEY         BERKELEY |\n",
      "  2. |        2            UCLA              UCLA |\n",
      "  3. |        3             UCLA             UCLA |\n",
      "  4. |        4         U.C.L.A.             UCLA |\n",
      "  5. |        5         Berkely           BERKELY |\n",
      "     |--------------------------------------------|\n",
      "  6. |        6     UC  Berkeley      UC BERKELEY |\n",
      "  7. |        7              UCB              UCB |\n",
      "  8. |        8   Not applicable   NOT APPLICABLE |\n",
      "     +--------------------------------------------+\n"
     ]
    }
   ],
   "source": [
    "* Let's get rid of the periods\n",
    "replace consistent_campus = subinstr(consistent_campus, \".\", \"\", .)\n",
    "\n",
    "list"
   ]
  },
  {
   "cell_type": "code",
   "execution_count": 10,
   "id": "746b70a5",
   "metadata": {},
   "outputs": [
    {
     "name": "stdout",
     "output_type": "stream",
     "text": [
      "\n",
      "(1 real change made)\n",
      "\n",
      "\n",
      "     +--------------------------------------------+\n",
      "     | studen~d           campus   consistent_c~s |\n",
      "     |--------------------------------------------|\n",
      "  1. |        1         BERKELEY         BERKELEY |\n",
      "  2. |        2            UCLA              UCLA |\n",
      "  3. |        3             UCLA             UCLA |\n",
      "  4. |        4         U.C.L.A.             UCLA |\n",
      "  5. |        5         Berkely          BERKELEY |\n",
      "     |--------------------------------------------|\n",
      "  6. |        6     UC  Berkeley      UC BERKELEY |\n",
      "  7. |        7              UCB              UCB |\n",
      "  8. |        8   Not applicable   NOT APPLICABLE |\n",
      "     +--------------------------------------------+\n"
     ]
    }
   ],
   "source": [
    "* Let's fix typos\n",
    "replace consistent_campus = \"BERKELEY\" if consistent_campus == \"BERKELY\"\n",
    "\n",
    "list"
   ]
  },
  {
   "cell_type": "code",
   "execution_count": 11,
   "id": "4841e309",
   "metadata": {},
   "outputs": [
    {
     "name": "stdout",
     "output_type": "stream",
     "text": [
      "\n",
      "(3 real changes made)\n",
      "\n",
      "\n",
      "     +--------------------------------------------+\n",
      "     | studen~d           campus   consistent_c~s |\n",
      "     |--------------------------------------------|\n",
      "  1. |        1         BERKELEY              UCB |\n",
      "  2. |        2            UCLA              UCLA |\n",
      "  3. |        3             UCLA             UCLA |\n",
      "  4. |        4         U.C.L.A.             UCLA |\n",
      "  5. |        5         Berkely               UCB |\n",
      "     |--------------------------------------------|\n",
      "  6. |        6     UC  Berkeley              UCB |\n",
      "  7. |        7              UCB              UCB |\n",
      "  8. |        8   Not applicable   NOT APPLICABLE |\n",
      "     +--------------------------------------------+\n"
     ]
    }
   ],
   "source": [
    "* Let's standardize values\n",
    "replace consistent_campus = \"UCB\" if regexm(consistent_campus, \"[UC]*BERKELEY\")\n",
    "\n",
    "list"
   ]
  },
  {
   "cell_type": "code",
   "execution_count": 12,
   "id": "904291af",
   "metadata": {},
   "outputs": [
    {
     "name": "stdout",
     "output_type": "stream",
     "text": [
      "\n",
      "(1 real change made)\n",
      "\n",
      "\n",
      "     +--------------------------------------+\n",
      "     | studen~d           campus   consis~s |\n",
      "     |--------------------------------------|\n",
      "  1. |        1         BERKELEY        UCB |\n",
      "  2. |        2            UCLA        UCLA |\n",
      "  3. |        3             UCLA       UCLA |\n",
      "  4. |        4         U.C.L.A.       UCLA |\n",
      "  5. |        5         Berkely         UCB |\n",
      "     |--------------------------------------|\n",
      "  6. |        6     UC  Berkeley        UCB |\n",
      "  7. |        7              UCB        UCB |\n",
      "  8. |        8   Not applicable            |\n",
      "     +--------------------------------------+\n"
     ]
    }
   ],
   "source": [
    "* Cleaning up missing values\n",
    "replace consistent_campus = \"\" if consistent_campus == \"NOT APPLICABLE\"\n",
    "\n",
    "list"
   ]
  },
  {
   "cell_type": "markdown",
   "id": "61a6f112",
   "metadata": {},
   "source": [
    "### String or number?\n",
    "\n",
    "Sometimes you have number stuck in a string (e.g., `\"$1,000\"`) and sometimes you have a string posing as a number (e.g., ZIP Codes). Let's go through an example of each and how to solve these issues."
   ]
  },
  {
   "cell_type": "code",
   "execution_count": 13,
   "id": "5e135210",
   "metadata": {},
   "outputs": [
    {
     "name": "stdout",
     "output_type": "stream",
     "text": [
      "\n",
      "\n",
      "\n",
      "          zcta  median_~s\n"
     ]
    }
   ],
   "source": [
    "clear all\n",
    "input  zcta  str7 median_earnings \n",
    "       1240   \"$33,530\" \n",
    "       1242   \"*\" \n",
    "      89010   \"$26,172\" \n",
    "      89019   \"$36,354\"\n",
    "end"
   ]
  },
  {
   "cell_type": "code",
   "execution_count": 14,
   "id": "cfe50d77",
   "metadata": {},
   "outputs": [
    {
     "name": "stdout",
     "output_type": "stream",
     "text": [
      "\n",
      "zcta was float now str5\n",
      "\n",
      "\n",
      "     +------------------+\n",
      "     |  zcta   median~s |\n",
      "     |------------------|\n",
      "  1. | 01240    $33,530 |\n",
      "  2. | 01242          * |\n",
      "  3. | 89010    $26,172 |\n",
      "  4. | 89019    $36,354 |\n",
      "     +------------------+\n"
     ]
    }
   ],
   "source": [
    "tostring zcta, format(\"%05.0f\") replace\n",
    "\n",
    "list"
   ]
  },
  {
   "cell_type": "code",
   "execution_count": 15,
   "id": "2ef0863e",
   "metadata": {},
   "outputs": [
    {
     "name": "stdout",
     "output_type": "stream",
     "text": [
      "\n",
      "median_earnings: characters $ * , removed; replaced as long\n",
      "(1 missing value generated)\n",
      "\n",
      "\n",
      "     +------------------+\n",
      "     |  zcta   median~s |\n",
      "     |------------------|\n",
      "  1. | 01240      33530 |\n",
      "  2. | 01242          . |\n",
      "  3. | 89010      26172 |\n",
      "  4. | 89019      36354 |\n",
      "     +------------------+\n"
     ]
    }
   ],
   "source": [
    "destring median_earnings, ignore(\"$*,\") replace\n",
    "\n",
    "list"
   ]
  },
  {
   "cell_type": "markdown",
   "id": "c83c8046",
   "metadata": {},
   "source": [
    "### Numeric\n",
    "\n",
    "Numeric variables can be represented as integers or decimal values (float/double). Sometimes integers depict measurements that represent actual integer values (e.g., number of apartments in a building) and sometimes they represent ordinal values (e.g., survey responses of \"strongly disagree\", \"disagree\", etc.).\n",
    "\n",
    "Let's create an example dataset that contains some of the variables."
   ]
  },
  {
   "cell_type": "code",
   "execution_count": 16,
   "id": "b9c2c954",
   "metadata": {},
   "outputs": [
    {
     "name": "stdout",
     "output_type": "stream",
     "text": [
      "\n",
      "\n",
      "\n",
      "     residen~d    unit_id        age  education     income\n"
     ]
    }
   ],
   "source": [
    "clear all\n",
    "input resident_id  unit_id  age  education  income \n",
    "                1        1   35          6   57324 \n",
    "                2        1   27          5   67366 \n",
    "                3        2   42        -99   47343 \n",
    "                4        3   56          4  -43123\n",
    "end"
   ]
  },
  {
   "cell_type": "markdown",
   "id": "60c56600",
   "metadata": {},
   "source": [
    "One of the first thing to do with numeric values are making sure you're representing missing values correctly. Many data sources will sometimes encode missing values with a placeholder value like -99. Double check your data documentation to make sure you know how missing values are encoded."
   ]
  },
  {
   "cell_type": "code",
   "execution_count": 17,
   "id": "83c0791b",
   "metadata": {},
   "outputs": [
    {
     "name": "stdout",
     "output_type": "stream",
     "text": [
      "\n",
      "(1 real change made, 1 to missing)\n",
      "\n",
      "\n",
      "     +----------------------------------------------+\n",
      "     | reside~d   unit_id   age   educat~n   income |\n",
      "     |----------------------------------------------|\n",
      "  1. |        1         1    35          6    57324 |\n",
      "  2. |        2         1    27          5    67366 |\n",
      "  3. |        3         2    42          .    47343 |\n",
      "  4. |        4         3    56          4   -43123 |\n",
      "     +----------------------------------------------+\n"
     ]
    }
   ],
   "source": [
    "replace education = . if education == -99\n",
    "\n",
    "list"
   ]
  },
  {
   "cell_type": "code",
   "execution_count": 18,
   "id": "af943ad8",
   "metadata": {},
   "outputs": [
    {
     "name": "stdout",
     "output_type": "stream",
     "text": [
      "\n",
      "(1 real change made, 1 to missing)\n",
      "\n",
      "\n",
      "     +----------------------------------------------+\n",
      "     | reside~d   unit_id   age   educat~n   income |\n",
      "     |----------------------------------------------|\n",
      "  1. |        1         1    35          6    57324 |\n",
      "  2. |        2         1    27          5    67366 |\n",
      "  3. |        3         2    42          .    47343 |\n",
      "  4. |        4         3    56          4        . |\n",
      "     +----------------------------------------------+\n"
     ]
    }
   ],
   "source": [
    "replace income = . if income < 0\n",
    "\n",
    "list"
   ]
  },
  {
   "cell_type": "markdown",
   "id": "ebde2c67",
   "metadata": {},
   "source": [
    "**Warning**: Missing values in Stata are treated as very large values when you do comparisons. For example, if you want to see all the observations with incomes greater than $60,000, you'll get the missing values too!"
   ]
  },
  {
   "cell_type": "code",
   "execution_count": 19,
   "id": "10608693",
   "metadata": {},
   "outputs": [
    {
     "name": "stdout",
     "output_type": "stream",
     "text": [
      "\n",
      "     +----------------------------------------------+\n",
      "     | reside~d   unit_id   age   educat~n   income |\n",
      "     |----------------------------------------------|\n",
      "  2. |        2         1    27          5    67366 |\n",
      "  4. |        4         3    56          4        . |\n",
      "     +----------------------------------------------+\n"
     ]
    }
   ],
   "source": [
    "list if income > 60000"
   ]
  },
  {
   "cell_type": "markdown",
   "id": "a184a70b",
   "metadata": {},
   "source": [
    "You can avoid this behavior as follows."
   ]
  },
  {
   "cell_type": "code",
   "execution_count": 20,
   "id": "0107a52e",
   "metadata": {},
   "outputs": [
    {
     "name": "stdout",
     "output_type": "stream",
     "text": [
      "\n",
      "     +----------------------------------------------+\n",
      "     | reside~d   unit_id   age   educat~n   income |\n",
      "     |----------------------------------------------|\n",
      "  2. |        2         1    27          5    67366 |\n",
      "     +----------------------------------------------+\n"
     ]
    }
   ],
   "source": [
    "list if income > 60000 & !missing(income)"
   ]
  },
  {
   "cell_type": "markdown",
   "id": "bf2fb598",
   "metadata": {},
   "source": [
    "Once you're more confident with the values in your numeric columns, you're ready to do the calculations needed for your analysis! Sometimes this could mean doing transformations of variables."
   ]
  },
  {
   "cell_type": "code",
   "execution_count": 22,
   "id": "ecf9d28a",
   "metadata": {},
   "outputs": [
    {
     "name": "stdout",
     "output_type": "stream",
     "text": [
      "\n",
      "variable ln_income already defined\n"
     ]
    },
    {
     "name": "stderr",
     "output_type": "stream",
     "text": [
      "r(110);\n",
      "r(110);\n"
     ]
    },
    {
     "name": "stdout",
     "output_type": "stream",
     "text": [
      "\n",
      "\n"
     ]
    }
   ],
   "source": [
    "gen ln_income = log(income)\n",
    "\n",
    "list"
   ]
  },
  {
   "cell_type": "code",
   "execution_count": 24,
   "id": "56819f64",
   "metadata": {},
   "outputs": [
    {
     "name": "stdout",
     "output_type": "stream",
     "text": [
      "\n",
      "\n",
      "\n",
      "     +------------------+\n",
      "     | unit_id   income |\n",
      "     |------------------|\n",
      "  1. |       1    62345 |\n",
      "  2. |       2    47343 |\n",
      "  3. |       3        . |\n",
      "     +------------------+\n"
     ]
    }
   ],
   "source": [
    "collapse (mean) income, by(unit_id)\n",
    "\n",
    "list"
   ]
  }
 ],
 "metadata": {
  "kernelspec": {
   "display_name": "Stata",
   "language": "stata",
   "name": "stata"
  },
  "language_info": {
   "codemirror_mode": "stata",
   "file_extension": ".do",
   "mimetype": "text/x-stata",
   "name": "stata",
   "version": "15.1"
  }
 },
 "nbformat": 4,
 "nbformat_minor": 5
}
