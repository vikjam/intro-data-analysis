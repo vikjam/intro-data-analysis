{
 "cells": [
  {
   "cell_type": "markdown",
   "id": "32f051e1-7ae6-4bef-9867-1b3159677a8a",
   "metadata": {},
   "source": [
    "# Data Wrangling\n",
    "\n",
    "Data wrangling comprises a substantial portion of every data professional's life. Wrangling data encompasses the steps you undertake to organize and clean for your analysis. Wrangling includes merging and appending datasets, finding typos, and creating new variables.\n",
    "\n",
    "For this exercise, we'll be using public data from [LendingClub](https://www.lendingclub.com), an online loan provider. There are two datasets one with the LendingClub loans (`loans`) and one with the other loans held by the consumer (`credit_record`).\n",
    "\n",
    "Let's load the data! It's a .dta can read into Stata using the command called `use`."
   ]
  },
  {
   "cell_type": "code",
   "execution_count": null,
   "id": "cea7af5c-e8f5-455a-8881-f99e5e8ac314",
   "metadata": {},
   "outputs": [],
   "source": [
    "* Store the URL in a variable\n",
    "local URL_LOANS \"https://www.dropbox.com/s/606068orwclejin/loans.dta?dl=1\"\n",
    "local URL_CREDIT_RECORD \"https://www.dropbox.com/s/o7suo1qxrt8gcp7/credit_record.dta?dl=1\"\n",
    "\n",
    "* Download the files\n",
    "copy \"`URL_LOANS'\" \"loans.dta\", replace\n",
    "copy \"`URL_CREDIT_RECORD'\" \"credit_record.dta\", replace"
   ]
  },
  {
   "cell_type": "code",
   "execution_count": null,
   "id": "84d8c742",
   "metadata": {},
   "outputs": [],
   "source": [
    "* Print the first few rows of the loans\n",
    "use \"loans.dta\", clear\n",
    "list in 1/10"
   ]
  },
  {
   "cell_type": "code",
   "execution_count": null,
   "id": "150debe9",
   "metadata": {},
   "outputs": [],
   "source": [
    "* Print the first few rows of the credit record file\n",
    "use \"credit_record.dta\", clear\n",
    "list in 1/10"
   ]
  },
  {
   "cell_type": "markdown",
   "id": "c656c974",
   "metadata": {},
   "source": [
    "Let's say we want to add the number of times an individual has been deliquent on a payment in the last 2 years, last year and last 6 months to the `loans` dataset. Here are the steps we'll undertake.\n",
    "\n",
    "- First subset the loans by the columns we need.\n",
    "- Join the dataset to the credit record dataset.\n",
    "- Calculate the length of time between the credit record date and the loan status date.\n",
    "- Group by the individual member.\n",
    "- Collapse a sum of an indicator for a deqliquent payment times an indicator for the relevant time period."
   ]
  },
  {
   "cell_type": "code",
   "execution_count": null,
   "id": "32189a7a",
   "metadata": {},
   "outputs": [],
   "source": [
    "* Load a subset of the columns we need from loans.dta\n",
    "use member_id status_dt using \"loans.dta\", clear\n",
    "\n",
    "* Save the subset as a temporary file\n",
    "tempfile loans_subset\n",
    "save `loans_subset', replace\n",
    "\n",
    "* Now load the credit records data\n",
    "use \"credit_record.dta\", clear\n",
    "\n",
    "* Merge the status date into credit records data\n",
    "merge m:1 member_id using `loans_subset', gen(_m_loans_subset)\n",
    "\n",
    "* Calculate the number of years (as a fraction) between the record date and status date\n",
    "gen years_since_rec = (status_dt - record_dt) / 365.25\n",
    "\n",
    "* Create variables that we will collapse over\n",
    "gen delinq_6mo = delinq_payment * (years_since_rec <= 0.5)\n",
    "gen delinq_1yr = delinq_payment * (years_since_rec <= 1)\n",
    "gen delinq_2yr = delinq_payment * (years_since_rec <= 2)\n",
    "\n",
    "* Collapse the data\n",
    "collapse (sum) delinq_6mo (sum) delinq_1yr (sum) delinq_2yr, by(member_id)\n",
    "\n",
    "* List the first few rows\n",
    "list in 1/10\n",
    "\n",
    "* Save as a temporary file to merge back into the loans records\n",
    "tempfile delinq_totals\n",
    "save `delinq_totals', replace"
   ]
  },
  {
   "cell_type": "code",
   "execution_count": null,
   "id": "a5049e25",
   "metadata": {},
   "outputs": [],
   "source": [
    "* Load back that the original loans data\n",
    "use \"loans.dta\", clear\n",
    "\n",
    "* Merge the deliquency totals into the loans data\n",
    "merge 1:1 member_id using `delinq_totals', gen(_m_delinq_totals)\n",
    "\n",
    "* List first few rows\n",
    "list in 1/10"
   ]
  }
 ],
 "metadata": {
  "kernelspec": {
   "display_name": "Stata",
   "language": "stata",
   "name": "stata"
  },
  "language_info": {
   "codemirror_mode": "stata",
   "file_extension": ".do",
   "mimetype": "text/x-stata",
   "name": "stata",
   "version": "15.1"
  }
 },
 "nbformat": 4,
 "nbformat_minor": 5
}
