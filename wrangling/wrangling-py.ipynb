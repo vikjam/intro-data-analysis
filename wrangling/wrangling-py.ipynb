{
 "cells": [
  {
   "cell_type": "markdown",
   "id": "e2ee9919-47a1-4d21-8a10-9a5bd8974a58",
   "metadata": {},
   "source": [
    "# Data Wrangling\n",
    "\n",
    "Data wrangling comprises a substantial portion of every data professional's life. Wrangling data encompasses the steps you undertake to organize and clean your underlying data for your analysis. Wrangling includes merging and appending datasets, finding typos, and creating new variables."
   ]
  },
  {
   "cell_type": "markdown",
   "id": "05821a2e",
   "metadata": {},
   "source": [
    "## Tidy data\n",
    "\n",
    "Before we get to the analysis stage of a project, you'll likely first want to arrive at a \"cleaned\" dataset. Some may call this an \"analysis\" file, which implies you can start doing analysis without much more fuss. The exact structure of such an analysis file will vary between projects, but there are some fundamental concepts that are common across many situations. Let's start by taking a look at this example from the book, _R for Data Science_ by Hadley Wickham ([Chapter 12](https://r4ds.had.co.nz/tidy-data.html)). Consider the following tables of data."
   ]
  },
  {
   "cell_type": "code",
   "execution_count": 1,
   "id": "b5514b62",
   "metadata": {},
   "outputs": [],
   "source": [
    "# Loading packages\n",
    "import pandas as pd  # The de factor way to handle data in Python\n",
    "\n",
    "# Table (1)\n",
    "infections_tidy = pd.DataFrame(\n",
    "    [\n",
    "        [\"Afghanistan\", 1999, 745, 19987071],\n",
    "        [\"Afghanistan\", 2000, 2666, 20595360],\n",
    "        [\"Brazil\", 1999, 37737, 172006362],\n",
    "        [\"Brazil\", 2000, 80488, 174504898],\n",
    "        [\"China\", 1999, 212258, 1272915272],\n",
    "        [\"China\", 2000, 213766, 1280428583],\n",
    "    ],\n",
    "    columns=[\"country\", \"year\", \"cases\", \"population\"],\n",
    ")\n",
    "\n",
    "# Table (2)\n",
    "infections_too_long = pd.DataFrame(\n",
    "    [\n",
    "        [\"Afghanistan\", 1999, \"cases\", 745],\n",
    "        [\"Afghanistan\", 1999, \"population\", 19987071],\n",
    "        [\"Afghanistan\", 2000, \"cases\", 2666],\n",
    "        [\"Afghanistan\", 2000, \"population\", 20595360],\n",
    "        [\"Brazil\", 1999, \"cases\", 37737],\n",
    "        [\"Brazil\", 1999, \"population\", 172006362],\n",
    "        [\"Brazil\", 2000, \"cases\", 80488],\n",
    "        [\"Brazil\", 2000, \"population\", 174504898],\n",
    "        [\"China\", 1999, \"cases\", 212258],\n",
    "        [\"China\", 1999, \"population\", 1272915272],\n",
    "        [\"China\", 2000, \"cases\", 213766],\n",
    "        [\"China\", 2000, \"population\", 1280428583],\n",
    "    ],\n",
    "    columns=[\"country\", \"year\", \"variable\", \"value\"],\n",
    ")\n",
    "\n",
    "# Table (3a)\n",
    "infections_just_cases = pd.DataFrame(\n",
    "    [[\"Afghanistan\", 745, 2666], [\"Brazil\", 37737, 80488], [\"China\", 212258, 213766]],\n",
    "    columns=[\"country\", \"1999\", \"2000\"],\n",
    ")\n",
    "\n",
    "# Table (3b)\n",
    "infections_just_population = pd.DataFrame(\n",
    "    [\n",
    "        [\"Afghanistan\", 19987071, 20595360],\n",
    "        [\"Brazil\", 172006362, 174504898],\n",
    "        [\"China\", 1272915272, 1280428583],\n",
    "    ],\n",
    "    columns=[\"country\", \"1999\", \"2000\"],\n",
    ")"
   ]
  },
  {
   "cell_type": "markdown",
   "id": "af11ec56",
   "metadata": {},
   "source": [
    "If you wanted to calculate the infection rate (cases per population) and plot it over time by country, which dataset makes that the easiest? Key factors in making a dataset \"tidy\":\n",
    "\n",
    "- Each variable must have its own column.\n",
    "- Each observation must have its own row.\n",
    "- Each value must have its own cell.\n",
    "\n",
    "The `pandas` has several functions to help us translate these untidy tables to tidy ones."
   ]
  },
  {
   "cell_type": "code",
   "execution_count": 2,
   "id": "f70412f6",
   "metadata": {},
   "outputs": [],
   "source": [
    "import pandas as pd\n",
    "\n",
    "student_campuses = pd.DataFrame(\n",
    "    [\n",
    "        [1, \"BERKELEY\"],  # Capitalization\n",
    "        [2, \"UCLA \"],  # Trailing space\n",
    "        [3, \" UCLA\"],  # Leading space\n",
    "        [4, \"U.C.L.A.\"],  # Punctuation\n",
    "        [5, \"Berkely \"],  # Typos\n",
    "        [6, \"UC  Berkeley\"],  # Embedded blanks\n",
    "        [7, \"UCB\"],  # Abbreviations\n",
    "        [8, \"Not applicable\"],  # Missing\n",
    "    ],\n",
    "    columns=[\"student_id\", \"campus\"],\n",
    ")"
   ]
  },
  {
   "cell_type": "code",
   "execution_count": 3,
   "id": "46803e32",
   "metadata": {},
   "outputs": [
    {
     "data": {
      "text/html": [
       "<div>\n",
       "<style scoped>\n",
       "    .dataframe tbody tr th:only-of-type {\n",
       "        vertical-align: middle;\n",
       "    }\n",
       "\n",
       "    .dataframe tbody tr th {\n",
       "        vertical-align: top;\n",
       "    }\n",
       "\n",
       "    .dataframe thead th {\n",
       "        text-align: right;\n",
       "    }\n",
       "</style>\n",
       "<table border=\"1\" class=\"dataframe\">\n",
       "  <thead>\n",
       "    <tr style=\"text-align: right;\">\n",
       "      <th></th>\n",
       "      <th>country</th>\n",
       "      <th>year</th>\n",
       "      <th>cases</th>\n",
       "      <th>population</th>\n",
       "    </tr>\n",
       "  </thead>\n",
       "  <tbody>\n",
       "    <tr>\n",
       "      <th>0</th>\n",
       "      <td>Afghanistan</td>\n",
       "      <td>1999</td>\n",
       "      <td>745</td>\n",
       "      <td>19987071</td>\n",
       "    </tr>\n",
       "    <tr>\n",
       "      <th>1</th>\n",
       "      <td>Afghanistan</td>\n",
       "      <td>2000</td>\n",
       "      <td>2666</td>\n",
       "      <td>20595360</td>\n",
       "    </tr>\n",
       "    <tr>\n",
       "      <th>2</th>\n",
       "      <td>Brazil</td>\n",
       "      <td>1999</td>\n",
       "      <td>37737</td>\n",
       "      <td>172006362</td>\n",
       "    </tr>\n",
       "    <tr>\n",
       "      <th>3</th>\n",
       "      <td>Brazil</td>\n",
       "      <td>2000</td>\n",
       "      <td>80488</td>\n",
       "      <td>174504898</td>\n",
       "    </tr>\n",
       "    <tr>\n",
       "      <th>4</th>\n",
       "      <td>China</td>\n",
       "      <td>1999</td>\n",
       "      <td>212258</td>\n",
       "      <td>1272915272</td>\n",
       "    </tr>\n",
       "    <tr>\n",
       "      <th>5</th>\n",
       "      <td>China</td>\n",
       "      <td>2000</td>\n",
       "      <td>213766</td>\n",
       "      <td>1280428583</td>\n",
       "    </tr>\n",
       "  </tbody>\n",
       "</table>\n",
       "</div>"
      ],
      "text/plain": [
       "       country  year   cases  population\n",
       "0  Afghanistan  1999     745    19987071\n",
       "1  Afghanistan  2000    2666    20595360\n",
       "2       Brazil  1999   37737   172006362\n",
       "3       Brazil  2000   80488   174504898\n",
       "4        China  1999  212258  1272915272\n",
       "5        China  2000  213766  1280428583"
      ]
     },
     "execution_count": 3,
     "metadata": {},
     "output_type": "execute_result"
    }
   ],
   "source": [
    "pd.pivot(\n",
    "    infections_too_long, index=[\"country\", \"year\"], columns=\"variable\", values=\"value\"\n",
    ").reset_index().rename_axis(None, axis=1)"
   ]
  },
  {
   "cell_type": "code",
   "execution_count": 4,
   "id": "81d95405",
   "metadata": {},
   "outputs": [
    {
     "data": {
      "text/html": [
       "<div>\n",
       "<style scoped>\n",
       "    .dataframe tbody tr th:only-of-type {\n",
       "        vertical-align: middle;\n",
       "    }\n",
       "\n",
       "    .dataframe tbody tr th {\n",
       "        vertical-align: top;\n",
       "    }\n",
       "\n",
       "    .dataframe thead th {\n",
       "        text-align: right;\n",
       "    }\n",
       "</style>\n",
       "<table border=\"1\" class=\"dataframe\">\n",
       "  <thead>\n",
       "    <tr style=\"text-align: right;\">\n",
       "      <th></th>\n",
       "      <th>country</th>\n",
       "      <th>year</th>\n",
       "      <th>cases</th>\n",
       "      <th>population</th>\n",
       "    </tr>\n",
       "  </thead>\n",
       "  <tbody>\n",
       "    <tr>\n",
       "      <th>0</th>\n",
       "      <td>Afghanistan</td>\n",
       "      <td>1999</td>\n",
       "      <td>745</td>\n",
       "      <td>19987071</td>\n",
       "    </tr>\n",
       "    <tr>\n",
       "      <th>1</th>\n",
       "      <td>Brazil</td>\n",
       "      <td>1999</td>\n",
       "      <td>37737</td>\n",
       "      <td>172006362</td>\n",
       "    </tr>\n",
       "    <tr>\n",
       "      <th>2</th>\n",
       "      <td>China</td>\n",
       "      <td>1999</td>\n",
       "      <td>212258</td>\n",
       "      <td>1272915272</td>\n",
       "    </tr>\n",
       "    <tr>\n",
       "      <th>3</th>\n",
       "      <td>Afghanistan</td>\n",
       "      <td>2000</td>\n",
       "      <td>2666</td>\n",
       "      <td>20595360</td>\n",
       "    </tr>\n",
       "    <tr>\n",
       "      <th>4</th>\n",
       "      <td>Brazil</td>\n",
       "      <td>2000</td>\n",
       "      <td>80488</td>\n",
       "      <td>174504898</td>\n",
       "    </tr>\n",
       "    <tr>\n",
       "      <th>5</th>\n",
       "      <td>China</td>\n",
       "      <td>2000</td>\n",
       "      <td>213766</td>\n",
       "      <td>1280428583</td>\n",
       "    </tr>\n",
       "  </tbody>\n",
       "</table>\n",
       "</div>"
      ],
      "text/plain": [
       "       country  year   cases  population\n",
       "0  Afghanistan  1999     745    19987071\n",
       "1       Brazil  1999   37737   172006362\n",
       "2        China  1999  212258  1272915272\n",
       "3  Afghanistan  2000    2666    20595360\n",
       "4       Brazil  2000   80488   174504898\n",
       "5        China  2000  213766  1280428583"
      ]
     },
     "execution_count": 4,
     "metadata": {},
     "output_type": "execute_result"
    }
   ],
   "source": [
    "# Tables (3a) + (3b)\n",
    "\n",
    "# Step (1): Reshape to long\n",
    "# Step (2): Rename variables\n",
    "infections_cases_long = infections_just_cases.melt(\n",
    "    id_vars=\"country\", var_name=\"year\", value_name=\"cases\"\n",
    ")\n",
    "\n",
    "infections_population_long = infections_just_population.melt(\n",
    "    id_vars=\"country\", var_name=\"year\", value_name=\"population\"\n",
    ")\n",
    "\n",
    "# Step (3): Join the data\n",
    "infections_cases_long.merge(infections_population_long, on=[\"country\", \"year\"])"
   ]
  },
  {
   "cell_type": "markdown",
   "id": "9a39dccb",
   "metadata": {},
   "source": [
    "## Tidy values\n",
    "\n",
    "The previous section discussed the overall structure of the dataset. Now let's dig into common problems you'll run into with actual values (cells) of your data. We can divide these into two categories:\n",
    "\n",
    "- Strings\n",
    "- Numeric\n",
    "\n",
    "There are of course other types of data types (dates, boolean and factors), but let's just focus on these main types for the moment.\n",
    "\n",
    "### Strings\n",
    "\n",
    "Strings can be very messy! Let's take the simple example of just asking people to write down what campus they attend."
   ]
  },
  {
   "cell_type": "code",
   "execution_count": 5,
   "id": "cb0f96a5",
   "metadata": {},
   "outputs": [],
   "source": [
    "student_campuses = pd.DataFrame(\n",
    "    [\n",
    "        [1, \"BERKELEY\"],  # Capitalization\n",
    "        [2, \"UCLA \"],  # Trailing space\n",
    "        [3, \" UCLA\"],  # Leading space\n",
    "        [4, \"U.C.L.A.\"],  # Punctuation\n",
    "        [5, \"Berkely \"],  # Typos\n",
    "        [6, \"UC  Berkeley\"],  # Embedded blanks\n",
    "        [7, \"UCB\"],  # Abbreviations\n",
    "        [8, \"Not applicable\"],  # Missing\n",
    "    ],\n",
    "    columns=[\"student_id\", \"campus\"],\n",
    ")"
   ]
  },
  {
   "cell_type": "code",
   "execution_count": 6,
   "id": "9c9162d7",
   "metadata": {},
   "outputs": [
    {
     "data": {
      "text/plain": [
       "0          BERKELEY\n",
       "1             UCLA \n",
       "2              UCLA\n",
       "3          U.C.L.A.\n",
       "4          BERKELY \n",
       "5      UC  BERKELEY\n",
       "6               UCB\n",
       "7    NOT APPLICABLE\n",
       "Name: campus, dtype: object"
      ]
     },
     "execution_count": 6,
     "metadata": {},
     "output_type": "execute_result"
    }
   ],
   "source": [
    "# Let's make all campuses uppercase\n",
    "student_campuses[\"campus\"].str.upper()"
   ]
  },
  {
   "cell_type": "code",
   "execution_count": 7,
   "id": "bfbb2fec",
   "metadata": {},
   "outputs": [
    {
     "data": {
      "text/plain": [
       "0          BERKELEY\n",
       "1              UCLA\n",
       "2              UCLA\n",
       "3          U.C.L.A.\n",
       "4           Berkely\n",
       "5       UC Berkeley\n",
       "6               UCB\n",
       "7    Not applicable\n",
       "Name: campus, dtype: object"
      ]
     },
     "execution_count": 7,
     "metadata": {},
     "output_type": "execute_result"
    }
   ],
   "source": [
    "# Let's get ride of the spaces\n",
    "student_campuses[\"campus\"].str.strip().replace(r\"\\s+\", \" \", regex=True)"
   ]
  },
  {
   "cell_type": "code",
   "execution_count": 8,
   "id": "6784b7cb",
   "metadata": {},
   "outputs": [
    {
     "data": {
      "text/plain": [
       "0          BERKELEY\n",
       "1             UCLA \n",
       "2              UCLA\n",
       "3              UCLA\n",
       "4          Berkely \n",
       "5      UC  Berkeley\n",
       "6               UCB\n",
       "7    Not applicable\n",
       "Name: campus, dtype: object"
      ]
     },
     "execution_count": 8,
     "metadata": {},
     "output_type": "execute_result"
    }
   ],
   "source": [
    "# Let's get rid of the punctuation\n",
    "student_campuses[\"campus\"].str.replace(\".\", \"\", regex=False)"
   ]
  },
  {
   "cell_type": "code",
   "execution_count": 9,
   "id": "5417e07d",
   "metadata": {},
   "outputs": [
    {
     "data": {
      "text/plain": [
       "0          BERKELEY\n",
       "1             UCLA \n",
       "2              UCLA\n",
       "3          U.C.L.A.\n",
       "4         Berkeley \n",
       "5      UC  Berkeley\n",
       "6               UCB\n",
       "7    Not applicable\n",
       "Name: campus, dtype: object"
      ]
     },
     "execution_count": 9,
     "metadata": {},
     "output_type": "execute_result"
    }
   ],
   "source": [
    "# Let's fix typos\n",
    "student_campuses[\"campus\"].str.replace(\"Berkely\", \"Berkeley\", regex=False)"
   ]
  },
  {
   "cell_type": "code",
   "execution_count": 10,
   "id": "fbc7a27f",
   "metadata": {},
   "outputs": [
    {
     "data": {
      "text/plain": [
       "0          BERKELEY\n",
       "1             UCLA \n",
       "2              UCLA\n",
       "3          U.C.L.A.\n",
       "4          Berkely \n",
       "5               UCB\n",
       "6               UCB\n",
       "7    Not applicable\n",
       "Name: campus, dtype: object"
      ]
     },
     "execution_count": 10,
     "metadata": {},
     "output_type": "execute_result"
    }
   ],
   "source": [
    "# Let's standardize values\n",
    "student_campuses[\"campus\"].str.replace(\"[UC].*Berkeley\", \"UCB\", regex=True)"
   ]
  },
  {
   "cell_type": "code",
   "execution_count": 11,
   "id": "600a0cd9",
   "metadata": {},
   "outputs": [
    {
     "data": {
      "text/plain": [
       "0        BERKELEY\n",
       "1           UCLA \n",
       "2            UCLA\n",
       "3        U.C.L.A.\n",
       "4        Berkely \n",
       "5    UC  Berkeley\n",
       "6             UCB\n",
       "7                \n",
       "Name: campus, dtype: object"
      ]
     },
     "execution_count": 11,
     "metadata": {},
     "output_type": "execute_result"
    }
   ],
   "source": [
    "# Cleaning up missing values\n",
    "student_campuses[\"campus\"].str.replace(\"Not applicable\", \"\", regex=False)"
   ]
  },
  {
   "cell_type": "code",
   "execution_count": 12,
   "id": "dff4ecf1",
   "metadata": {},
   "outputs": [],
   "source": [
    "# Now let's put it all together!\n",
    "student_campuses[\"consistent_campus\"] = (\n",
    "    student_campuses[\"campus\"]\n",
    "    .str.upper()  # Capitalization\n",
    "    .str.strip()  # Trailing space\n",
    "    .replace(r\"\\s+\", \" \", regex=True)  # Leading space\n",
    "    .str.replace(\".\", \"\", regex=False)  # Punctuation\n",
    "    .str.replace(\"BERKELY\", \"BERKELEY\", regex=False)  # Typos\n",
    "    .str.replace(\"(UC\\s)?BERKELEY\", \"UCB\", regex=True)  # Embedded blanks\n",
    "    .str.replace(\"NOT APPLICABLE\", \"\", regex=False)  # Missing\n",
    ")"
   ]
  },
  {
   "cell_type": "markdown",
   "id": "61d04267",
   "metadata": {},
   "source": [
    "### String or number?\n",
    "\n",
    "Sometimes you have number stuck in a string (e.g., `\"$1,000\"`) and sometimes you have a string posing as a number (e.g., ZIP Codes). Let's go through an example of each and how to solve these issues."
   ]
  },
  {
   "cell_type": "code",
   "execution_count": 13,
   "id": "0a2bf6cc",
   "metadata": {},
   "outputs": [],
   "source": [
    "zcta_earnings = pd.DataFrame(\n",
    "    [\n",
    "        [1240, \"$33,530\"],\n",
    "        [1242, \"*\"],\n",
    "        [89010, \"$26,172\"],\n",
    "        [89019, \"$36,354\"],\n",
    "    ],\n",
    "    columns=[\"zcta\", \"median_earnings\"],\n",
    ")"
   ]
  },
  {
   "cell_type": "markdown",
   "id": "80d8070f",
   "metadata": {},
   "source": [
    "Some identification codes consisting of numbers (e.g., ZIP Codes and FIPS codes) may mistakenly stored or loaded as numbers. Why does this matter? In general, we wouldn't want to treat a ZIP Code as a number. Why is 89010 greater than 1240? Ideally, such variables should be stored as strings instead of numbers."
   ]
  },
  {
   "cell_type": "code",
   "execution_count": 14,
   "id": "3c28372e",
   "metadata": {},
   "outputs": [
    {
     "data": {
      "text/plain": [
       "0    01240\n",
       "1    01242\n",
       "2    89010\n",
       "3    89019\n",
       "Name: zcta, dtype: object"
      ]
     },
     "execution_count": 14,
     "metadata": {},
     "output_type": "execute_result"
    }
   ],
   "source": [
    "zcta_earnings[\"zcta\"].astype(str).str.pad(width=5, fillchar=\"0\")"
   ]
  },
  {
   "cell_type": "code",
   "execution_count": 15,
   "id": "7aa78b51",
   "metadata": {},
   "outputs": [
    {
     "data": {
      "text/plain": [
       "0    33530.0\n",
       "1        NaN\n",
       "2    26172.0\n",
       "3    36354.0\n",
       "Name: median_earnings, dtype: float64"
      ]
     },
     "execution_count": 15,
     "metadata": {},
     "output_type": "execute_result"
    }
   ],
   "source": [
    "pd.to_numeric(zcta_earnings[\"median_earnings\"].str.replace(\"\\$|,|\\*\", \"\", regex=True))"
   ]
  },
  {
   "cell_type": "markdown",
   "id": "1dee0410",
   "metadata": {},
   "source": [
    "### Numeric\n",
    "\n",
    "Numeric variables can be represented as integers or decimal values (float/double). Sometimes integers depict measurements that represent actual integer values (e.g., number of apartments in a building) and sometimes they represent ordinal values (e.g., survey responses of \"strongly disagree\", \"disagree\", etc.).\n",
    "\n",
    "Let's create an example dataset that contains some of the variables."
   ]
  },
  {
   "cell_type": "code",
   "execution_count": 16,
   "id": "0768d8be",
   "metadata": {},
   "outputs": [],
   "source": [
    "housing = pd.DataFrame(\n",
    "    [\n",
    "        [1, 1, 35, 6, 57324],\n",
    "        [2, 1, 27, 5, 67366],\n",
    "        [3, 2, 42, -99, 47343],\n",
    "        [4, 3, 56, 4, -43123],\n",
    "    ],\n",
    "    columns=[\"resident_id\", \"unit_id\", \"age\", \"education\", \"income\"],\n",
    ")"
   ]
  },
  {
   "cell_type": "markdown",
   "id": "f7b02852",
   "metadata": {},
   "source": [
    "One of the first thing to do with numeric values are making sure you're representing missing values correctly. Many data sources will sometimes encode missing values with a placeholder value like -99. Double check your data documentation to make sure you know how missing values are encoded."
   ]
  },
  {
   "cell_type": "code",
   "execution_count": 17,
   "id": "ab2dde22",
   "metadata": {},
   "outputs": [
    {
     "data": {
      "text/plain": [
       "0    6.0\n",
       "1    5.0\n",
       "2    NaN\n",
       "3    4.0\n",
       "Name: education, dtype: float64"
      ]
     },
     "execution_count": 17,
     "metadata": {},
     "output_type": "execute_result"
    }
   ],
   "source": [
    "import numpy as np  # Use NumPy missing values\n",
    "\n",
    "housing[\"education\"].replace(-99, np.nan)"
   ]
  },
  {
   "cell_type": "markdown",
   "id": "bbaf71db",
   "metadata": {},
   "source": [
    "Sometimes numeric values have intervals they fall between. For example, the fraction of days absent in a school year must fall between zero and one. Or height must be greater than 0. However, there are sometimes ambigious situations. For example, we might think income needs to be at least zero. But if someone includes business losses in their reported income, negative values might be plausible! For now, let's suppose losses are not possible in our dataset. We can recode all values we think are invalid as missing."
   ]
  },
  {
   "cell_type": "code",
   "execution_count": 18,
   "id": "1e96d5ec",
   "metadata": {},
   "outputs": [
    {
     "data": {
      "text/plain": [
       "0    57324.0\n",
       "1    67366.0\n",
       "2    47343.0\n",
       "3        NaN\n",
       "Name: income, dtype: float64"
      ]
     },
     "execution_count": 18,
     "metadata": {},
     "output_type": "execute_result"
    }
   ],
   "source": [
    "housing[\"income\"].loc[housing[\"income\"] < 0] = np.nan\n",
    "housing[\"income\"]"
   ]
  },
  {
   "cell_type": "markdown",
   "id": "51519450",
   "metadata": {},
   "source": [
    "Once you're more confident with the values in your numeric columns, you're ready to do the calculations needed for your analysis! Sometimes this could mean doing transformations of variables."
   ]
  },
  {
   "cell_type": "code",
   "execution_count": 19,
   "id": "decb6bdf",
   "metadata": {},
   "outputs": [],
   "source": [
    "housing[\"ln_income\"] = np.log(housing[\"income\"])"
   ]
  },
  {
   "cell_type": "markdown",
   "id": "45927854",
   "metadata": {},
   "source": [
    "Or sometimes you need to do aggregations."
   ]
  },
  {
   "cell_type": "code",
   "execution_count": 21,
   "id": "f340f8e6",
   "metadata": {},
   "outputs": [
    {
     "data": {
      "text/html": [
       "<div>\n",
       "<style scoped>\n",
       "    .dataframe tbody tr th:only-of-type {\n",
       "        vertical-align: middle;\n",
       "    }\n",
       "\n",
       "    .dataframe tbody tr th {\n",
       "        vertical-align: top;\n",
       "    }\n",
       "\n",
       "    .dataframe thead th {\n",
       "        text-align: right;\n",
       "    }\n",
       "</style>\n",
       "<table border=\"1\" class=\"dataframe\">\n",
       "  <thead>\n",
       "    <tr style=\"text-align: right;\">\n",
       "      <th></th>\n",
       "      <th>unit_id</th>\n",
       "      <th>income</th>\n",
       "    </tr>\n",
       "  </thead>\n",
       "  <tbody>\n",
       "    <tr>\n",
       "      <th>0</th>\n",
       "      <td>1</td>\n",
       "      <td>62345.0</td>\n",
       "    </tr>\n",
       "    <tr>\n",
       "      <th>1</th>\n",
       "      <td>2</td>\n",
       "      <td>47343.0</td>\n",
       "    </tr>\n",
       "    <tr>\n",
       "      <th>2</th>\n",
       "      <td>3</td>\n",
       "      <td>NaN</td>\n",
       "    </tr>\n",
       "  </tbody>\n",
       "</table>\n",
       "</div>"
      ],
      "text/plain": [
       "   unit_id   income\n",
       "0        1  62345.0\n",
       "1        2  47343.0\n",
       "2        3      NaN"
      ]
     },
     "execution_count": 21,
     "metadata": {},
     "output_type": "execute_result"
    }
   ],
   "source": [
    "housing.groupby(\"unit_id\").agg({\"income\": \"mean\"}).reset_index()"
   ]
  }
 ],
 "metadata": {
  "kernelspec": {
   "display_name": "Python 3",
   "language": "python",
   "name": "python3"
  },
  "language_info": {
   "codemirror_mode": {
    "name": "ipython",
    "version": 3
   },
   "file_extension": ".py",
   "mimetype": "text/x-python",
   "name": "python",
   "nbconvert_exporter": "python",
   "pygments_lexer": "ipython3",
   "version": "3.9.6"
  }
 },
 "nbformat": 4,
 "nbformat_minor": 5
}
